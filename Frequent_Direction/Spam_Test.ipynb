{
 "cells": [
  {
   "cell_type": "code",
   "execution_count": 1,
   "metadata": {
    "collapsed": true
   },
   "outputs": [],
   "source": [
    "import numpy as np\n",
    "from frequent_direction import FrequentDirections\n",
    "from scipy.io import arff"
   ]
  },
  {
   "cell_type": "code",
   "execution_count": 45,
   "metadata": {
    "collapsed": true
   },
   "outputs": [],
   "source": [
    "data, meta = arff.loadarff('/home/duynguyen/Downloads/spam/spam_data.arff')"
   ]
  },
  {
   "cell_type": "code",
   "execution_count": 52,
   "metadata": {},
   "outputs": [],
   "source": [
    "A = []\n",
    "for i in range(len(data)):\n",
    "    A.append(np.hstack(data[i]).astype(np.integer))"
   ]
  },
  {
   "cell_type": "code",
   "execution_count": 82,
   "metadata": {},
   "outputs": [
    {
     "data": {
      "text/plain": [
       "array([[ 0.,  0.,  0., ...,  0.,  0.,  0.],\n",
       "       [ 0.,  0.,  0., ...,  0.,  0.,  0.],\n",
       "       [ 0.,  0.,  0., ...,  0.,  0.,  0.],\n",
       "       ..., \n",
       "       [ 0.,  0.,  0., ...,  0.,  0.,  0.],\n",
       "       [ 0.,  0.,  0., ...,  0.,  0.,  0.],\n",
       "       [ 0.,  0.,  0., ...,  0.,  0.,  0.]])"
      ]
     },
     "execution_count": 82,
     "metadata": {},
     "output_type": "execute_result"
    }
   ],
   "source": [
    "B = np.zeros((9324,500))\n",
    "for i in range(len(A)):\n",
    "    B[i] = A[i]"
   ]
  },
  {
   "cell_type": "code",
   "execution_count": 89,
   "metadata": {},
   "outputs": [],
   "source": [
    "A = np.array(B)\n",
    "del(B)"
   ]
  },
  {
   "cell_type": "code",
   "execution_count": 91,
   "metadata": {},
   "outputs": [],
   "source": [
    "A.shape\n",
    "approxCovarianceMatrixA = np.dot(A.transpose(),A)"
   ]
  },
  {
   "cell_type": "code",
   "execution_count": 92,
   "metadata": {},
   "outputs": [
    {
     "data": {
      "text/plain": [
       "array([[ 1554.,  1010.,  1385., ...,   147.,   380.,  1186.],\n",
       "       [ 1010.,  2191.,   989., ...,   140.,   698.,  1411.],\n",
       "       [ 1385.,   989.,  1482., ...,   143.,   365.,  1111.],\n",
       "       ..., \n",
       "       [  147.,   140.,   143., ...,   183.,    64.,   105.],\n",
       "       [  380.,   698.,   365., ...,    64.,  2494.,   453.],\n",
       "       [ 1186.,  1411.,  1111., ...,   105.,   453.,  2387.]])"
      ]
     },
     "execution_count": 92,
     "metadata": {},
     "output_type": "execute_result"
    }
   ],
   "source": [
    "approxCovarianceMatrixA"
   ]
  },
  {
   "cell_type": "code",
   "execution_count": 93,
   "metadata": {},
   "outputs": [
    {
     "data": {
      "text/plain": [
       "580.2464993431671"
      ]
     },
     "execution_count": 93,
     "metadata": {},
     "output_type": "execute_result"
    }
   ],
   "source": [
    "Norm_A = np.linalg.norm(A,ord='fro')\n",
    "Norm_A"
   ]
  },
  {
   "cell_type": "code",
   "execution_count": 96,
   "metadata": {},
   "outputs": [
    {
     "name": "stdout",
     "output_type": "stream",
     "text": [
      "Matrix Sketching Using iSVD\n",
      "Matrix Sketching Using iSVD\n",
      "Matrix Sketching Using iSVD\n",
      "Matrix Sketching Using iSVD\n",
      "Matrix Sketching Using iSVD\n",
      "Matrix Sketching Using iSVD\n",
      "Matrix Sketching Using iSVD\n",
      "Matrix Sketching Using iSVD\n",
      "Matrix Sketching Using iSVD\n"
     ]
    }
   ],
   "source": [
    "# Iterative SVD\n",
    "Test1 = np.zeros(9)\n",
    "approxCovarianceMatrixA = np.dot(A.transpose(),A)\n",
    "for j in range(9):    \n",
    "    l = 20 + 10*j\n",
    "    fd =  FrequentDirections(l,500,op='isvd')\n",
    "    for i in range(9324):\n",
    "        row = A[i,:]\n",
    "        fd.add(row)\n",
    "    B = fd.getSketchMatrix()\n",
    "    approxCovarianceMatrixB = np.dot(B.transpose(),B)\n",
    "    testMatrix = approxCovarianceMatrixA - approxCovarianceMatrixB\n",
    "    Test1[j] = np.linalg.norm(testMatrix,ord=2)/(Norm_A**2)\n",
    "    del(fd)"
   ]
  },
  {
   "cell_type": "code",
   "execution_count": 97,
   "metadata": {},
   "outputs": [
    {
     "data": {
      "text/plain": [
       "array([ 0.00823697,  0.00625914,  0.00557382,  0.00500542,  0.00451912,\n",
       "        0.00385346,  0.00320086,  0.00288479,  0.00246975])"
      ]
     },
     "execution_count": 97,
     "metadata": {},
     "output_type": "execute_result"
    }
   ],
   "source": [
    "Test1"
   ]
  },
  {
   "cell_type": "code",
   "execution_count": 99,
   "metadata": {},
   "outputs": [
    {
     "name": "stdout",
     "output_type": "stream",
     "text": [
      "Matrix Sketching Using Space Saving Direction\n",
      "Matrix Sketching Using Space Saving Direction\n",
      "Matrix Sketching Using Space Saving Direction\n",
      "Matrix Sketching Using Space Saving Direction\n",
      "Matrix Sketching Using Space Saving Direction\n",
      "Matrix Sketching Using Space Saving Direction\n",
      "Matrix Sketching Using Space Saving Direction\n",
      "Matrix Sketching Using Space Saving Direction\n",
      "Matrix Sketching Using Space Saving Direction\n"
     ]
    }
   ],
   "source": [
    "#Space Saving Direction\n",
    "Test2 = np.zeros(9)\n",
    "for j in range(9):    \n",
    "    l = 20 + 10*j\n",
    "    fd =  FrequentDirections(l,500,op='ssd')\n",
    "    for i in range(9324):\n",
    "        row = A[i,:]\n",
    "        fd.add(row)\n",
    "    B = fd.getSketchMatrix()\n",
    "    approxCovarianceMatrixB = np.dot(B.transpose(),B)\n",
    "    testMatrix = approxCovarianceMatrixA - approxCovarianceMatrixB\n",
    "    Test2[j] = np.linalg.norm(testMatrix,ord=2)/(Norm_A**2)\n",
    "    del(fd)"
   ]
  },
  {
   "cell_type": "code",
   "execution_count": 100,
   "metadata": {},
   "outputs": [
    {
     "data": {
      "text/plain": [
       "array([ 0.0333758 ,  0.02054323,  0.01459901,  0.01107715,  0.00885901,\n",
       "        0.00728119,  0.00611999,  0.00525214,  0.00453441])"
      ]
     },
     "execution_count": 100,
     "metadata": {},
     "output_type": "execute_result"
    }
   ],
   "source": [
    "Test2"
   ]
  },
  {
   "cell_type": "code",
   "execution_count": 101,
   "metadata": {
    "scrolled": true
   },
   "outputs": [
    {
     "name": "stdout",
     "output_type": "stream",
     "text": [
      "Matrix Sketching Using Frequent Direction\n",
      "Matrix Sketching Using Frequent Direction\n",
      "Matrix Sketching Using Frequent Direction\n",
      "Matrix Sketching Using Frequent Direction\n",
      "Matrix Sketching Using Frequent Direction\n",
      "Matrix Sketching Using Frequent Direction\n",
      "Matrix Sketching Using Frequent Direction\n",
      "Matrix Sketching Using Frequent Direction\n",
      "Matrix Sketching Using Frequent Direction\n"
     ]
    }
   ],
   "source": [
    "# Frequent Direction\n",
    "Test3 = np.zeros(9)\n",
    "for j in range(9):    \n",
    "    l = 20 + 10*j\n",
    "    fd =  FrequentDirections(l,500,op='fd')\n",
    "    for i in range(9324):\n",
    "        row = A[i,:]\n",
    "        fd.add(row)\n",
    "    B = fd.getSketchMatrix()\n",
    "    approxCovarianceMatrixB = np.dot(B.transpose(),B)\n",
    "    testMatrix = approxCovarianceMatrixA - approxCovarianceMatrixB\n",
    "    Test3[j] = np.linalg.norm(testMatrix,ord=2)/(Norm_A**2)\n",
    "    del(fd)"
   ]
  },
  {
   "cell_type": "code",
   "execution_count": 102,
   "metadata": {},
   "outputs": [
    {
     "data": {
      "text/plain": [
       "array([ 0.03268668,  0.0206854 ,  0.01490278,  0.01148421,  0.00925393,\n",
       "        0.00768095,  0.00650097,  0.00559126,  0.00485411])"
      ]
     },
     "execution_count": 102,
     "metadata": {},
     "output_type": "execute_result"
    }
   ],
   "source": [
    "Test3"
   ]
  },
  {
   "cell_type": "code",
   "execution_count": 103,
   "metadata": {},
   "outputs": [
    {
     "name": "stdout",
     "output_type": "stream",
     "text": [
      "Matrix Sketching Using Parameterized Frequent Direction\n",
      "Matrix Sketching Using Parameterized Frequent Direction\n",
      "Matrix Sketching Using Parameterized Frequent Direction\n",
      "Matrix Sketching Using Parameterized Frequent Direction\n",
      "Matrix Sketching Using Parameterized Frequent Direction\n",
      "Matrix Sketching Using Parameterized Frequent Direction\n",
      "Matrix Sketching Using Parameterized Frequent Direction\n",
      "Matrix Sketching Using Parameterized Frequent Direction\n",
      "Matrix Sketching Using Parameterized Frequent Direction\n"
     ]
    }
   ],
   "source": [
    "# 0.2 Parameterized Frequent Direction\n",
    "Test4 = np.zeros(9)\n",
    "for j in range(9):    \n",
    "    l = 20 + 10*j\n",
    "    fd =  FrequentDirections(l,500,op=0.2)\n",
    "    for i in range(9324):\n",
    "        row = A[i,:]\n",
    "        fd.add(row)\n",
    "    B = fd.getSketchMatrix()\n",
    "    approxCovarianceMatrixB = np.dot(B.transpose(),B)\n",
    "    testMatrix = approxCovarianceMatrixA - approxCovarianceMatrixB\n",
    "    Test4[j] = np.linalg.norm(testMatrix,ord=2)/(Norm_A**2)\n",
    "    del(fd)"
   ]
  },
  {
   "cell_type": "code",
   "execution_count": 104,
   "metadata": {},
   "outputs": [
    {
     "data": {
      "text/plain": [
       "array([ 0.00825939,  0.00676307,  0.00578234,  0.00515171,  0.00444476,\n",
       "        0.00408009,  0.00363939,  0.00329944,  0.00309596])"
      ]
     },
     "execution_count": 104,
     "metadata": {},
     "output_type": "execute_result"
    }
   ],
   "source": [
    "Test4"
   ]
  },
  {
   "cell_type": "code",
   "execution_count": 106,
   "metadata": {},
   "outputs": [
    {
     "name": "stdout",
     "output_type": "stream",
     "text": [
      "Matrix Sketching Using Parameterized Frequent Direction\n",
      "Matrix Sketching Using Parameterized Frequent Direction\n",
      "Matrix Sketching Using Parameterized Frequent Direction\n",
      "Matrix Sketching Using Parameterized Frequent Direction\n",
      "Matrix Sketching Using Parameterized Frequent Direction\n",
      "Matrix Sketching Using Parameterized Frequent Direction\n",
      "Matrix Sketching Using Parameterized Frequent Direction\n",
      "Matrix Sketching Using Parameterized Frequent Direction\n",
      "Matrix Sketching Using Parameterized Frequent Direction\n"
     ]
    }
   ],
   "source": [
    "# 0.8 Parameterized Frequent Direction\n",
    "Test5 = np.zeros(9)\n",
    "for j in range(9):    \n",
    "    l = 20 + 10*j\n",
    "    fd =  FrequentDirections(l,500,op=0.8)\n",
    "    for i in range(9324):\n",
    "        row = A[i,:]\n",
    "        fd.add(row)\n",
    "    B = fd.getSketchMatrix()\n",
    "    approxCovarianceMatrixB = np.dot(B.transpose(),B)\n",
    "    testMatrix = approxCovarianceMatrixA - approxCovarianceMatrixB\n",
    "    Test5[j] = np.linalg.norm(testMatrix,ord=2)/(Norm_A**2)\n",
    "    del(fd)"
   ]
  },
  {
   "cell_type": "code",
   "execution_count": 107,
   "metadata": {},
   "outputs": [
    {
     "data": {
      "text/plain": [
       "array([ 0.01585707,  0.0119406 ,  0.01092052,  0.00852868,  0.00701025,\n",
       "        0.00609663,  0.00534883,  0.00486026,  0.00436735])"
      ]
     },
     "execution_count": 107,
     "metadata": {},
     "output_type": "execute_result"
    }
   ],
   "source": [
    "Test5"
   ]
  },
  {
   "cell_type": "code",
   "execution_count": 108,
   "metadata": {
    "collapsed": true
   },
   "outputs": [],
   "source": [
    "import matplotlib.pyplot as plt\n",
    "%matplotlib inline"
   ]
  },
  {
   "cell_type": "code",
   "execution_count": 110,
   "metadata": {},
   "outputs": [
    {
     "data": {
      "text/plain": [
       "<matplotlib.legend.Legend at 0x7f11da47c630>"
      ]
     },
     "execution_count": 110,
     "metadata": {},
     "output_type": "execute_result"
    },
    {
     "data": {
      "image/png": "[encoded data removed]",
      "text/plain": [
       "<matplotlib.figure.Figure at 0x7f11da59db00>"
      ]
     },
     "metadata": {},
     "output_type": "display_data"
    }
   ],
   "source": [
    "x = [20,30,40,50,60,70,80,90,100]\n",
    "plt.figure(figsize=(15,10))\n",
    "plt.title('Test Result for Random Noisy Data', size='xx-large')\n",
    "plt.ylabel('Covariance Error', size='x-large')\n",
    "plt.plot(x,Test1, 'r*-', markersize=10, linewidth=2, label='iSVD')\n",
    "plt.plot(x,Test2, 'bo-', markersize=10, linewidth=2, label='SSD')\n",
    "plt.plot(x,Test3, 'gv-', markersize=10, linewidth=2, label='FD')\n",
    "plt.plot(x,Test4, 'y^-', markersize=10, linewidth=2, label='0.2PFD')\n",
    "plt.plot(x,Test5, 'c.-', markersize=10, linewidth=2, label='0.8PFD')\n",
    "plt.tick_params(axis='both', which='major', labelsize=14)\n",
    "plt.legend(loc=(0.75,0.75), scatterpoints=1)"
   ]
  },
  {
   "cell_type": "code",
   "execution_count": null,
   "metadata": {
    "collapsed": true
   },
   "outputs": [],
   "source": []
  }
 ],
 "metadata": {
  "kernelspec": {
   "display_name": "Python 3",
   "language": "python",
   "name": "python3"
  },
  "language_info": {
   "codemirror_mode": {
    "name": "ipython",
    "version": 3
   },
   "file_extension": ".py",
   "mimetype": "text/x-python",
   "name": "python",
   "nbconvert_exporter": "python",
   "pygments_lexer": "ipython3",
   "version": "3.5.2"
  }
 },
 "nbformat": 4,
 "nbformat_minor": 2
}
