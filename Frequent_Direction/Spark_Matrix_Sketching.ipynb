{
 "cells": [
  {
   "cell_type": "code",
   "execution_count": 1,
   "metadata": {
    "collapsed": true
   },
   "outputs": [],
   "source": [
    "import findspark\n",
    "findspark.init('/home/duynguyen/spark-master')"
   ]
  },
  {
   "cell_type": "code",
   "execution_count": 2,
   "metadata": {
    "collapsed": true
   },
   "outputs": [],
   "source": [
    "from pyspark import SparkContext\n",
    "# $example on$\n",
    "from pyspark.mllib.linalg import Vectors\n",
    "from pyspark.mllib.linalg.distributed import RowMatrix\n",
    "# $example off$"
   ]
  },
  {
   "cell_type": "code",
   "execution_count": 168,
   "metadata": {},
   "outputs": [],
   "source": [
    "from numpy import zeros, max, sqrt, isnan, isinf, dot, diag, count_nonzero, where\n",
    "from numpy.linalg import svd, linalg, LinAlgError, norm\n",
    "from scipy.linalg import svd as scipy_svd\n",
    "\n",
    "\n",
    "class FrequentDirections(object):\n",
    "    \n",
    "    def __init__(self ,sc , rows, columns, op='fd'):\n",
    "        \"\"\"\n",
    "        Matrix Sketching using Frequent Direction.\n",
    "        Choose 'fd' for normal Frequent Direction, 'ssd' for Space Saving Direction, 'cfd' for Compensative Frequent Direction, 'isvd' for iterative SVD, and a number between 0 and 1 for Parameterized Frequent Direction\n",
    "        \"\"\"\n",
    "        self.class_name = 'FrequentDirections'\n",
    "        self.op = op\n",
    "        self.columns = columns\n",
    "        self.rows = rows\n",
    "        self.localSketchMatrix = zeros((self.rows, self.columns)) \n",
    "        self.distributedSketchMatrix = RowMatrix(sc.parallelize(self.localSketchMatrix))\n",
    "        self.S = zeros(self.rows)\n",
    "        self.U = []\n",
    "        self.V = []\n",
    "        self.step = 1\n",
    "        self.nextZeroRow = 0\n",
    "        self.emptyRows = self.rows\n",
    "\n",
    "        # Parsing the operation parameter\n",
    "        if self.op == 'fd':\n",
    "            print(\"Matrix Sketching Using Frequent Direction\")\n",
    "            self.reduceRank = self.__FDOperate__\n",
    "        elif self.op == 'ssd':\n",
    "            print(\"Matrix Sketching Using Space Saving Direction\")\n",
    "            self.op = 2\n",
    "            self.reduceRank = self.__SSDOperate__\n",
    "        elif self.op == 'cfd':\n",
    "            print(\"Matrix Sketching Using Compensative Frequent Direction\")\n",
    "            self.reduceRank = self.__CFDperate__\n",
    "        elif self.op == 'isvd':\n",
    "            print(\"Matrix Sketching Using iSVD\")\n",
    "            self.reduceRank = self.__iSVDOperate__\n",
    "        elif type(self.op) != str and self.op > 0 and self.op < 1:\n",
    "            print(\"Matrix Sketching Using Parameterized Frequent Direction\")\n",
    "            self.reduceRank = self.__PFDOperate__\n",
    "            self.DELTA = 0\n",
    "        else:\n",
    "            print(\"Type of Reduce Rank algorithm is not correct\")\n",
    "            raise ValueError\n",
    "    \n",
    "    # Add new vector to the sketch matrix\n",
    "    def add(self,vector):     \n",
    "        if count_nonzero(vector) == 0:\n",
    "            return\n",
    "        \n",
    "        # If the approximate matrix is full, call the operate method to free half of the columns\n",
    "        if self.emptyRows <= 0:\n",
    "#             try:\n",
    "#                 [self.U,self.S,self.V] = svd(self.localSketchMatrix , full_matrices=True)\n",
    "#             except LinAlgError as err:\n",
    "#                 [self.U,self.S,self.V] = scipy_svd(self.localSketchMatrix , full_matrices = True)\n",
    "            self.svd = self.distributedSketchMatrix.computeSVD(self.rows, computeU=True)\n",
    "            self.U = self.svd.U       # The U factor is a distributed RowMatrix.\n",
    "            self.S[:] = self.svd.s[:]      # The singular values are stored in a local dense vector.\n",
    "            self.V = self.svd.V       # The V factor is a local dense matrix.\n",
    "            self.reduceRank()\n",
    "\n",
    "        # Push the new vector to the next zero row and increase the next zero row index\n",
    "        self.localSketchMatrix[self.nextZeroRow,:] = vector\n",
    "        del(self.distributedSketchMatrix)\n",
    "        self.distributedSketchMatrix = RowMatrix(sc.parallelize(self.localSketchMatrix))\n",
    "        self.nextZeroRow += 1\n",
    "        self.emptyRows -= 1\n",
    "\n",
    "\n",
    "    # Shrink the approximate matrix using Frequent Direction\n",
    "    def __FDOperate__(self):\n",
    "        # Calculating matrix s\n",
    "        delta = sqrt(self.S[:]**2 - self.S[len(self.S)-1]**2)\n",
    "        self.S = delta\n",
    "        self.S[len(self.S)-1] = 0\n",
    "        #Shrink the sketch matrix\n",
    "        self.localSketchMatrix[:,:] = dot(diag(self.S), self.V.toArray().transpose()[:len(self.S),:])\n",
    "        self.nextZeroRow = (len(self.S)-1)\n",
    "        self.emptyRows += 1\n",
    "            \n",
    "        \n",
    "    # Shrink the approximate matrix using iterative SVD\n",
    "    def __iSVDOperate__(self):\n",
    "        # Calculating matrix s\n",
    "        self.S[len(self.S)-1] = 0\n",
    "        #Shrink the sketch matrix\n",
    "        self.localSketchMatrix[:,:] = dot(diag(self.S), self.V.toArray().transpose()[:len(self.S),:])\n",
    "        self.nextZeroRow = (len(self.S)-1)\n",
    "        self.emptyRows += 1\n",
    "\n",
    "\n",
    "   \t# Shrink the approximate matrix using Parameterized FD\n",
    "    def __PFDOperate__(self):\n",
    "        #Shrink the sketch matrix\n",
    "        # Calculating matrix s\n",
    "        delta = self.S[-1]**2\n",
    "        self.S[round(len(self.S)*(1-self.op)):] = sqrt(self.S[round(len(self.S)*(1-self.op)):]**2 - self.S[-1]**2)\n",
    "        #Shrink the sketch matrix\n",
    "        self.localSketchMatrix[:,:] = dot(diag(self.S), self.V.toArray().transpose()[:len(self.S),:])\n",
    "        self.nextZeroRow = len(self.S) - 1\n",
    "        self.emptyRows += 1\n",
    "    \n",
    "\n",
    "    # Shrink the approximate matrix using Space Saving Direction\n",
    "    def __SSDOperate__(self):\n",
    "        # Calculating matrix s\n",
    "        self.S[-1] = sqrt(self.S[-1]**2 + self.S[-2]**2)\n",
    "        self.S[len(self.S)-2] = 0\n",
    "        #Shrink the sketch matrix\n",
    "        self.localSketchMatrix[:,:] = dot(diag(self.S), self.V.toArray().transpose()[:len(self.S),:])\n",
    "        self.nextZeroRow = len(self.S)-2\n",
    "        self.emptyRows += 1\n",
    "        \n",
    "        \n",
    "    # Shrink the approximate matrix using Compensative Direction\n",
    "    def __CFDperate__(self):\n",
    "        # Calculating SVD\n",
    "        try:\n",
    "            [U,self.S,Vt] = svd(self.sketchMatrix, full_matrices=False)\n",
    "        except LinAlgError as err:\n",
    "            [U,self.S,Vt] = scipy_svd(self.sketchMatrix, full_matrices = False)\n",
    "        # Calculating matrix s\n",
    "        self.DELTA += self.S[-1]**2\n",
    "        self.S = sqrt(self.S[:len(self.S)]**2 + self.DELTA)\n",
    "        delta = sqrt(self.S[:]**2 - self.S[len(self.S)-1]**2)\n",
    "        self.S = delta\n",
    "        self.S[len(self.S)-1] = 0\n",
    "        #Shrink the sketch matrix\n",
    "        self.localSketchMatrix[:,:] = dot(diag(self.S), self.V.toArray().transpose()[:len(self.S),:])\n",
    "        self.nextZeroRow = len(self.S) - 1\n",
    "        self.emptyRows += 1\n",
    "\n",
    "\n",
    "    # Return the local sketch matrix\n",
    "    def getLocalSketchMatrix(self):\n",
    "        return self.localSketchMatrix\n",
    "    \n",
    "    # Return the distributed sketch matrix\n",
    "    def getDistributedSketchMatrix(self):\n",
    "        return self.distributedSketchMatrix\n",
    "    \n",
    "    # Return the S matrix\n",
    "    def getS(self):\n",
    "        return self.S\n",
    "    \n",
    "    # Return the U matrix\n",
    "    def getU(self):\n",
    "        return self.U\n",
    "    \n",
    "    # Return the Vt matrix\n",
    "    def getV(self):\n",
    "        return self.V\n"
   ]
  },
  {
   "cell_type": "code",
   "execution_count": 128,
   "metadata": {},
   "outputs": [
    {
     "ename": "ValueError",
     "evalue": "Cannot run multiple SparkContexts at once; existing SparkContext(app=PythonSVDExample, master=local[*]) created by __init__ at <ipython-input-9-d6a060f3e95b>:1 ",
     "output_type": "error",
     "traceback": [
      "\u001b[0;31m---------------------------------------------------------------------------\u001b[0m",
      "\u001b[0;31mValueError\u001b[0m                                Traceback (most recent call last)",
      "\u001b[0;32m<ipython-input-128-d6a060f3e95b>\u001b[0m in \u001b[0;36m<module>\u001b[0;34m()\u001b[0m\n\u001b[0;32m----> 1\u001b[0;31m \u001b[0msc\u001b[0m \u001b[0;34m=\u001b[0m \u001b[0mSparkContext\u001b[0m\u001b[0;34m(\u001b[0m\u001b[0mappName\u001b[0m\u001b[0;34m=\u001b[0m\u001b[0;34m\"PythonSVDExample\"\u001b[0m\u001b[0;34m)\u001b[0m\u001b[0;34m\u001b[0m\u001b[0m\n\u001b[0m",
      "\u001b[0;32m/home/duynguyen/spark-master/python/pyspark/context.py\u001b[0m in \u001b[0;36m__init__\u001b[0;34m(self, master, appName, sparkHome, pyFiles, environment, batchSize, serializer, conf, gateway, jsc, profiler_cls)\u001b[0m\n\u001b[1;32m    113\u001b[0m         \"\"\"\n\u001b[1;32m    114\u001b[0m         \u001b[0mself\u001b[0m\u001b[0;34m.\u001b[0m\u001b[0m_callsite\u001b[0m \u001b[0;34m=\u001b[0m \u001b[0mfirst_spark_call\u001b[0m\u001b[0;34m(\u001b[0m\u001b[0;34m)\u001b[0m \u001b[0;32mor\u001b[0m \u001b[0mCallSite\u001b[0m\u001b[0;34m(\u001b[0m\u001b[0;32mNone\u001b[0m\u001b[0;34m,\u001b[0m \u001b[0;32mNone\u001b[0m\u001b[0;34m,\u001b[0m \u001b[0;32mNone\u001b[0m\u001b[0;34m)\u001b[0m\u001b[0;34m\u001b[0m\u001b[0m\n\u001b[0;32m--> 115\u001b[0;31m         \u001b[0mSparkContext\u001b[0m\u001b[0;34m.\u001b[0m\u001b[0m_ensure_initialized\u001b[0m\u001b[0;34m(\u001b[0m\u001b[0mself\u001b[0m\u001b[0;34m,\u001b[0m \u001b[0mgateway\u001b[0m\u001b[0;34m=\u001b[0m\u001b[0mgateway\u001b[0m\u001b[0;34m,\u001b[0m \u001b[0mconf\u001b[0m\u001b[0;34m=\u001b[0m\u001b[0mconf\u001b[0m\u001b[0;34m)\u001b[0m\u001b[0;34m\u001b[0m\u001b[0m\n\u001b[0m\u001b[1;32m    116\u001b[0m         \u001b[0;32mtry\u001b[0m\u001b[0;34m:\u001b[0m\u001b[0;34m\u001b[0m\u001b[0m\n\u001b[1;32m    117\u001b[0m             self._do_init(master, appName, sparkHome, pyFiles, environment, batchSize, serializer,\n",
      "\u001b[0;32m/home/duynguyen/spark-master/python/pyspark/context.py\u001b[0m in \u001b[0;36m_ensure_initialized\u001b[0;34m(cls, instance, gateway, conf)\u001b[0m\n\u001b[1;32m    297\u001b[0m                         \u001b[0;34m\" created by %s at %s:%s \"\u001b[0m\u001b[0;34m\u001b[0m\u001b[0m\n\u001b[1;32m    298\u001b[0m                         % (currentAppName, currentMaster,\n\u001b[0;32m--> 299\u001b[0;31m                             callsite.function, callsite.file, callsite.linenum))\n\u001b[0m\u001b[1;32m    300\u001b[0m                 \u001b[0;32melse\u001b[0m\u001b[0;34m:\u001b[0m\u001b[0;34m\u001b[0m\u001b[0m\n\u001b[1;32m    301\u001b[0m                     \u001b[0mSparkContext\u001b[0m\u001b[0;34m.\u001b[0m\u001b[0m_active_spark_context\u001b[0m \u001b[0;34m=\u001b[0m \u001b[0minstance\u001b[0m\u001b[0;34m\u001b[0m\u001b[0m\n",
      "\u001b[0;31mValueError\u001b[0m: Cannot run multiple SparkContexts at once; existing SparkContext(app=PythonSVDExample, master=local[*]) created by __init__ at <ipython-input-9-d6a060f3e95b>:1 "
     ]
    }
   ],
   "source": [
    "sc = SparkContext(appName=\"PythonSVDExample\")"
   ]
  },
  {
   "cell_type": "code",
   "execution_count": 163,
   "metadata": {},
   "outputs": [
    {
     "name": "stdout",
     "output_type": "stream",
     "text": [
      "[[ 74.17676246  56.48576044  61.90269881 ...,  13.81001226  60.90292572\n",
      "   70.64630815]\n",
      " [ 65.23845528  56.85610287  17.73233222 ...,  20.18898103  77.39982244\n",
      "   45.84270017]\n",
      " [ 55.17141272   7.68441521  99.83202449 ...,   2.94539277   1.32540591\n",
      "   45.59873996]\n",
      " ..., \n",
      " [ 15.8193658   21.3898864   62.86031705 ...,  71.73247605  39.41963616\n",
      "   30.88483749]\n",
      " [ 67.41856555  28.24082072  52.43478114 ...,  86.46613207  18.36970851\n",
      "   61.23992027]\n",
      " [ 41.99067863  80.7965796   58.5105537  ...,  57.32652329  95.4212792\n",
      "   27.40444226]]\n"
     ]
    }
   ],
   "source": [
    "import numpy as np\n",
    "A = 100* np.random.rand(100,20)\n",
    "print(A)"
   ]
  },
  {
   "cell_type": "code",
   "execution_count": 167,
   "metadata": {},
   "outputs": [
    {
     "name": "stdout",
     "output_type": "stream",
     "text": [
      "Matrix Sketching Using Frequent Direction\n"
     ]
    }
   ],
   "source": [
    "l = 10\n",
    "fd =  FrequentDirections(sc=sc,rows=l,columns=20,op='fd')\n",
    "for i in range(100):\n",
    "    row = A[i,:]\n",
    "    fd.add(row)"
   ]
  },
  {
   "cell_type": "code",
   "execution_count": 169,
   "metadata": {},
   "outputs": [
    {
     "name": "stdout",
     "output_type": "stream",
     "text": [
      "[[ -4.91712589e+02  -5.03981499e+02  -4.96034743e+02  -5.19209159e+02\n",
      "   -5.11456257e+02  -5.34266084e+02  -5.01024967e+02  -5.64475515e+02\n",
      "   -4.97855116e+02  -5.05149183e+02  -4.71295796e+02  -5.11410958e+02\n",
      "   -4.97726515e+02  -5.04353385e+02  -3.80995126e+02  -4.80383329e+02\n",
      "   -4.78348766e+02  -4.63529147e+02  -4.90495888e+02  -4.94344596e+02]\n",
      " [  3.10217398e+01   2.20927653e+01  -3.13881585e+01   2.81183044e+00\n",
      "   -4.82391127e+01   4.59935490e+01   5.18190734e+01  -5.34203591e+00\n",
      "   -4.11975889e+01  -4.22560982e+01  -2.22121531e+01  -8.01049446e+01\n",
      "    1.13737222e+01  -2.42345293e+01  -2.27650548e+01   1.98103704e+01\n",
      "    7.80931589e+01  -4.04680037e+01   6.33665018e+01   2.87345346e+01]\n",
      " [ -1.38073129e+01  -2.81153138e+01   5.23140799e+00   9.16531677e+01\n",
      "   -2.25718120e+01   3.15507667e+01   1.39762943e+01  -2.53101975e+01\n",
      "    3.50878713e+01   8.09985281e+00   5.51600734e+00  -1.13834853e+01\n",
      "    1.95520646e+00   4.09816533e+01  -4.23782058e+01  -8.33578963e+01\n",
      "   -9.58726788e+00  -3.09605894e+01  -2.15346397e+01   3.73382275e+01]\n",
      " [ -2.07689479e+01   3.90794091e+01   1.29200970e+01  -2.52730297e+01\n",
      "    2.66299917e+00  -4.10646197e+01   1.21456102e+01  -4.09758654e+01\n",
      "    1.90443458e+01   1.02538473e+01  -6.84596309e+01   2.97801212e+01\n",
      "   -3.20313420e+01   7.77967506e+01  -3.09966769e+01  -1.02733499e+01\n",
      "    1.49584471e+01  -4.57449558e+00   6.92286886e+01  -1.68197017e+01]\n",
      " [ -3.75566567e+01  -3.22401984e+00  -1.06131597e+01  -3.50213309e+01\n",
      "    7.91653151e+00  -6.36278519e+00   3.05464333e+01   2.40449811e+01\n",
      "   -3.15526416e+01   5.95702401e+00   2.51250495e+01   1.12946310e+01\n",
      "    3.72449337e+01   3.47861877e+01   1.28931709e-01  -2.73383314e+01\n",
      "    3.33803053e+01  -2.39703879e+01  -2.54193226e+01  -1.27280983e+01]\n",
      " [ -4.79832179e+00  -2.56808491e+01   3.29106287e+01  -1.93879699e+01\n",
      "    2.41407270e+01   5.09124075e+00   1.89824547e+01  -1.09779629e+01\n",
      "   -2.04627553e+01  -4.32601998e+01   8.67355740e+00  -7.57222673e+00\n",
      "    1.47945144e+01   6.97898050e+00   2.13806576e+01  -2.04925425e+01\n",
      "   -4.48740890e+01   5.17570724e+00   3.82356662e+01   2.75407302e+01]\n",
      " [  2.56082644e+00   1.66859781e+01  -5.69356992e+00   1.81541719e+00\n",
      "    1.33990849e+01  -1.70957183e+01   4.16176179e+01  -6.56782798e+00\n",
      "    2.84552654e+01  -3.42873158e+00  -2.97607605e+01   2.09221264e+01\n",
      "    1.19180431e+01  -3.71092137e+01   2.51692272e+01  -4.91642923e+00\n",
      "   -8.83565273e+00  -4.13435855e+01  -1.52847000e+01   9.47818951e+00]\n",
      " [ -4.66274537e+00  -1.48755738e+01  -2.90894366e+00  -8.86952145e+00\n",
      "   -2.07875797e+01   9.77506264e+00  -7.00896537e+00   1.22661953e+00\n",
      "    3.85339977e+01  -3.33293487e+01   1.27301882e+01   1.25087248e+01\n",
      "    5.64778518e-01   6.10543955e+00   1.42563950e+01   1.93359908e+00\n",
      "    1.41056559e+01  -4.27596240e+00   6.93169703e+00  -1.73250502e+01]\n",
      " [ -2.29222211e+01   7.52965727e+00  -9.09710580e+00   7.87114294e-01\n",
      "    1.08723005e+00   2.15368010e+01   1.11190276e+01   9.77390010e+00\n",
      "    4.53343026e+00   2.45179717e+00  -9.58264888e+00  -4.07724997e+00\n",
      "   -1.99301556e+00  -6.85834065e+00  -1.07894726e+00  -3.22972771e+00\n",
      "   -1.14770806e+01   1.51349520e+01   4.54275067e+00  -1.17418342e+01]\n",
      " [  4.19906786e+01   8.07965796e+01   5.85105537e+01   1.09560848e+01\n",
      "    2.54435326e+01   6.50581239e+01   9.62111712e+01   8.69291806e+01\n",
      "    2.78396433e+01   9.91632469e+01   6.83663593e+01   4.92680392e+01\n",
      "    1.67991057e+01   5.00701235e-01   9.51410330e+01   9.87658842e+01\n",
      "    6.76086083e+01   5.73265233e+01   9.54212792e+01   2.74044423e+01]]\n",
      "[ 2218.43615635   184.92510678   162.91890042   160.59393909   109.57170953\n",
      "   105.16371215    94.86919418    68.06422157    45.45981357     0.        ]\n"
     ]
    }
   ],
   "source": [
    "print(fd.getLocalSketchMatrix())\n",
    "print(fd.getS())"
   ]
  },
  {
   "cell_type": "code",
   "execution_count": 30,
   "metadata": {},
   "outputs": [
    {
     "data": {
      "text/plain": [
       "[DenseVector([3.8074, 27.7652, 84.5342, 62.3573, 23.0472, 70.5257, 73.9106, 89.8079, 89.447, 90.1831, 47.1219, 97.0055, 37.6688, 10.0116, 35.8555, 95.6983, 38.4716, 6.5108, 96.8757, 42.8443]),\n",
       " DenseVector([42.6074, 59.846, 91.0104, 41.3266, 87.6616, 56.7175, 47.8576, 10.7291, 61.5257, 58.284, 57.2444, 54.1114, 63.7084, 18.6313, 96.8052, 8.4404, 0.5815, 75.2998, 51.2543, 98.7061]),\n",
       " DenseVector([6.8133, 98.3658, 78.4205, 9.4251, 84.6307, 17.3883, 73.6359, 84.889, 49.9635, 34.1662, 20.4015, 19.1985, 90.6758, 63.8162, 48.6891, 13.0695, 42.0981, 59.9316, 87.613, 12.5752]),\n",
       " DenseVector([78.7361, 30.0491, 21.7485, 84.4172, 64.3682, 96.6846, 82.6476, 91.5166, 80.3817, 55.1016, 31.8799, 7.4774, 89.7606, 52.5243, 31.9271, 59.2847, 40.7302, 82.1948, 50.2091, 34.1954]),\n",
       " DenseVector([17.4635, 37.0829, 74.4209, 97.2032, 84.2433, 12.0505, 54.3987, 86.2278, 66.7769, 35.4716, 84.4427, 54.1307, 59.1003, 2.5274, 23.4833, 0.0646, 3.2015, 85.4729, 25.2708, 3.5244]),\n",
       " DenseVector([11.2552, 0.257, 70.4592, 76.9406, 52.5582, 12.2611, 41.8331, 92.7201, 14.5885, 94.0424, 28.8363, 4.0038, 16.5653, 89.3059, 20.7924, 3.9138, 46.1783, 81.5292, 98.6722, 24.0535]),\n",
       " DenseVector([48.7226, 7.7676, 60.8595, 35.0685, 92.8868, 6.2978, 85.271, 48.7082, 99.2722, 42.6492, 1.9429, 10.1583, 33.7341, 18.5095, 4.0071, 5.1206, 88.9494, 10.7167, 87.6814, 88.6657]),\n",
       " DenseVector([23.7676, 27.0567, 91.7377, 25.4593, 81.7514, 11.4597, 37.7833, 68.6561, 12.4177, 86.1314, 64.7205, 96.8406, 59.5404, 60.2388, 56.6509, 28.5576, 10.2575, 50.8404, 95.829, 31.6309]),\n",
       " DenseVector([0.6548, 46.9008, 37.8312, 6.3969, 96.2302, 16.7607, 35.3205, 52.6174, 12.1313, 21.7147, 32.5217, 30.7651, 56.0119, 59.7022, 75.9078, 84.735, 79.0488, 99.358, 12.3089, 57.6067]),\n",
       " DenseVector([93.3776, 19.9932, 18.0999, 99.3738, 57.5863, 48.0596, 10.3341, 57.9636, 84.1005, 68.9638, 56.9178, 51.912, 51.292, 45.4195, 81.1885, 85.4318, 9.6142, 35.7011, 94.8247, 10.365])]"
      ]
     },
     "execution_count": 30,
     "metadata": {},
     "output_type": "execute_result"
    }
   ],
   "source": [
    "fd.getDistributedSketchMatrix().rows.collect()"
   ]
  },
  {
   "cell_type": "code",
   "execution_count": 77,
   "metadata": {},
   "outputs": [],
   "source": [
    "Matrix = RowMatrix(sc.parallelize(A))\n",
    "svd2 = Matrix.computeSVD(5, computeU=True)"
   ]
  },
  {
   "cell_type": "code",
   "execution_count": 68,
   "metadata": {},
   "outputs": [
    {
     "name": "stdout",
     "output_type": "stream",
     "text": [
      "DenseMatrix([[-0.47940821,  0.81746502, -0.01760412,  0.27716641, -0.15744074],\n",
      "             [-0.40110302, -0.26094608, -0.3207908 ,  0.44495359,  0.68566251],\n",
      "             [-0.45004222, -0.02028785, -0.47969164, -0.75292758, -0.00681117],\n",
      "             [-0.33332592, -0.45840826, -0.22249658,  0.3597372 , -0.70699372],\n",
      "             [-0.54372785, -0.23045249,  0.78560458, -0.1699538 ,  0.07206128]])\n"
     ]
    }
   ],
   "source": [
    "print(svd2.V)"
   ]
  },
  {
   "cell_type": "code",
   "execution_count": 78,
   "metadata": {
    "collapsed": true
   },
   "outputs": [],
   "source": [
    "[U,S,V] = svd(A , full_matrices=False)"
   ]
  },
  {
   "cell_type": "code",
   "execution_count": 79,
   "metadata": {},
   "outputs": [
    {
     "name": "stdout",
     "output_type": "stream",
     "text": [
      "[[-0.47940821 -0.81746502  0.01760412 -0.27716641  0.15744074]\n",
      " [-0.40110302  0.26094608  0.3207908  -0.44495359 -0.68566251]\n",
      " [-0.45004222  0.02028785  0.47969164  0.75292758  0.00681117]\n",
      " [-0.33332592  0.45840826  0.22249658 -0.3597372   0.70699372]\n",
      " [-0.54372785  0.23045249 -0.78560458  0.1699538  -0.07206128]]\n"
     ]
    }
   ],
   "source": [
    "print(V.transpose())"
   ]
  },
  {
   "cell_type": "code",
   "execution_count": 72,
   "metadata": {},
   "outputs": [
    {
     "name": "stdout",
     "output_type": "stream",
     "text": [
      "[339.165712374,135.258445457,91.5167565005,77.063612949,35.0405021255]\n"
     ]
    }
   ],
   "source": [
    "print(svd2.s)"
   ]
  },
  {
   "cell_type": "code",
   "execution_count": 73,
   "metadata": {},
   "outputs": [
    {
     "name": "stdout",
     "output_type": "stream",
     "text": [
      "[ 339.16571237  135.25844546   91.5167565    77.06361295   35.04050213]\n"
     ]
    }
   ],
   "source": [
    "print(S)"
   ]
  },
  {
   "cell_type": "code",
   "execution_count": 74,
   "metadata": {},
   "outputs": [
    {
     "name": "stdout",
     "output_type": "stream",
     "text": [
      "[-0.395959899238,0.290094393827,0.143401577937,-0.486912196255,-0.148746647467]\n",
      "[-0.314467845435,-0.401832240529,-0.254387906223,-0.294130224232,-0.451110980468]\n",
      "[-0.324944860716,-0.428145262238,-0.147702847387,-0.00197461022659,-0.225991743632]\n",
      "[-0.255389421462,0.367563384128,-0.27807894927,-0.0570780990215,0.327836736141]\n",
      "[-0.246460536897,0.167520427897,0.48941708739,0.229590956726,-0.298450001776]\n",
      "[-0.380895813076,-0.312848513258,0.312415666963,0.572996715732,0.188116900846]\n",
      "[-0.299845168176,-0.278350324092,0.256904016439,-0.380445267575,0.64270062284]\n",
      "[-0.27759131508,0.423891943764,0.179744454603,0.0768327233427,-0.238110313782]\n",
      "[-0.251838728867,0.168381816867,0.0161351144162,-0.0727289919241,0.0889972590462]\n",
      "[-0.370542289317,0.156562706417,-0.616342460428,0.36901693314,0.116972767022]\n"
     ]
    }
   ],
   "source": [
    "for vector in svd2.U.rows.collect():\n",
    "    print(vector)"
   ]
  },
  {
   "cell_type": "code",
   "execution_count": 80,
   "metadata": {},
   "outputs": [
    {
     "name": "stdout",
     "output_type": "stream",
     "text": [
      "[[-0.3959599  -0.29009439 -0.14340158  0.4869122   0.14874665]\n",
      " [-0.31446785  0.40183224  0.25438791  0.29413022  0.45111098]\n",
      " [-0.32494486  0.42814526  0.14770285  0.00197461  0.22599174]\n",
      " [-0.25538942 -0.36756338  0.27807895  0.0570781  -0.32783674]\n",
      " [-0.24646054 -0.16752043 -0.48941709 -0.22959096  0.29845   ]\n",
      " [-0.38089581  0.31284851 -0.31241567 -0.57299672 -0.1881169 ]\n",
      " [-0.29984517  0.27835032 -0.25690402  0.38044527 -0.64270062]\n",
      " [-0.27759132 -0.42389194 -0.17974445 -0.07683272  0.23811031]\n",
      " [-0.25183873 -0.16838182 -0.01613511  0.07272899 -0.08899726]\n",
      " [-0.37054229 -0.15656271  0.61634246 -0.36901693 -0.11697277]]\n"
     ]
    }
   ],
   "source": [
    "print(U)"
   ]
  },
  {
   "cell_type": "code",
   "execution_count": 81,
   "metadata": {},
   "outputs": [
    {
     "data": {
      "text/plain": [
       "array([[-162.59882596, -136.04039172, -152.63889   , -113.05272171,\n",
       "        -184.41384287],\n",
       "       [ 110.56904782,  -35.29516168,   -2.74410243,  -62.00358914,\n",
       "         -31.1706453 ],\n",
       "       [  -1.61107215,  -29.35773324,  -43.89982342,  -20.36216556,\n",
       "          71.89598308],\n",
       "       [  21.35944517,   34.28973091,  -58.02331947,   27.72264844,\n",
       "         -13.09725385],\n",
       "       [  -5.51680261,   24.02595868,   -0.23866696,  -24.77341481,\n",
       "           2.52506329]])"
      ]
     },
     "execution_count": 81,
     "metadata": {},
     "output_type": "execute_result"
    }
   ],
   "source": [
    "dot(diag(svd2.s), svd2.V.toArray().transpose())"
   ]
  },
  {
   "cell_type": "code",
   "execution_count": 147,
   "metadata": {},
   "outputs": [],
   "source": [
    "s2=[]\n",
    "s2[:] = svd2.s[:]"
   ]
  },
  {
   "cell_type": "code",
   "execution_count": 150,
   "metadata": {},
   "outputs": [],
   "source": [
    "s2[1] = 0"
   ]
  },
  {
   "cell_type": "code",
   "execution_count": 143,
   "metadata": {},
   "outputs": [
    {
     "data": {
      "text/plain": [
       "135.2584454565349"
      ]
     },
     "execution_count": 143,
     "metadata": {},
     "output_type": "execute_result"
    }
   ],
   "source": [
    "svd2.s[1]"
   ]
  },
  {
   "cell_type": "code",
   "execution_count": 170,
   "metadata": {},
   "outputs": [
    {
     "ename": "TypeError",
     "evalue": "unsupported operand type(s) for +: 'RowMatrix' and 'RowMatrix'",
     "output_type": "error",
     "traceback": [
      "\u001b[0;31m---------------------------------------------------------------------------\u001b[0m",
      "\u001b[0;31mTypeError\u001b[0m                                 Traceback (most recent call last)",
      "\u001b[0;32m<ipython-input-170-bd1f4f061b40>\u001b[0m in \u001b[0;36m<module>\u001b[0;34m()\u001b[0m\n\u001b[0;32m----> 1\u001b[0;31m \u001b[0msvd2\u001b[0m\u001b[0;34m.\u001b[0m\u001b[0mU\u001b[0m \u001b[0;34m+\u001b[0m \u001b[0msvd2\u001b[0m\u001b[0;34m.\u001b[0m\u001b[0mU\u001b[0m\u001b[0;34m\u001b[0m\u001b[0m\n\u001b[0m",
      "\u001b[0;31mTypeError\u001b[0m: unsupported operand type(s) for +: 'RowMatrix' and 'RowMatrix'"
     ]
    }
   ],
   "source": [
    "svd2.U + svd2.U"
   ]
  },
  {
   "cell_type": "code",
   "execution_count": 173,
   "metadata": {},
   "outputs": [],
   "source": [
    "s2 = svd2.s.array"
   ]
  },
  {
   "cell_type": "markdown",
   "metadata": {},
   "source": []
  },
  {
   "cell_type": "code",
   "execution_count": 175,
   "metadata": {},
   "outputs": [
    {
     "ename": "ValueError",
     "evalue": "assignment destination is read-only",
     "output_type": "error",
     "traceback": [
      "\u001b[0;31m---------------------------------------------------------------------------\u001b[0m",
      "\u001b[0;31mValueError\u001b[0m                                Traceback (most recent call last)",
      "\u001b[0;32m<ipython-input-175-a65b1baeb1dd>\u001b[0m in \u001b[0;36m<module>\u001b[0;34m()\u001b[0m\n\u001b[0;32m----> 1\u001b[0;31m \u001b[0ms2\u001b[0m\u001b[0;34m[\u001b[0m\u001b[0;36m0\u001b[0m\u001b[0;34m]\u001b[0m \u001b[0;34m=\u001b[0m \u001b[0;36m0\u001b[0m\u001b[0;34m\u001b[0m\u001b[0m\n\u001b[0m",
      "\u001b[0;31mValueError\u001b[0m: assignment destination is read-only"
     ]
    }
   ],
   "source": [
    "s2[0] = 0"
   ]
  },
  {
   "cell_type": "code",
   "execution_count": 177,
   "metadata": {},
   "outputs": [
    {
     "ename": "TypeError",
     "evalue": "unsupported operand type(s) for *: 'DenseMatrix' and 'DenseMatrix'",
     "output_type": "error",
     "traceback": [
      "\u001b[0;31m---------------------------------------------------------------------------\u001b[0m",
      "\u001b[0;31mTypeError\u001b[0m                                 Traceback (most recent call last)",
      "\u001b[0;32m<ipython-input-177-f66f80dd8d31>\u001b[0m in \u001b[0;36m<module>\u001b[0;34m()\u001b[0m\n\u001b[0;32m----> 1\u001b[0;31m \u001b[0mdot\u001b[0m\u001b[0;34m(\u001b[0m\u001b[0msvd2\u001b[0m\u001b[0;34m.\u001b[0m\u001b[0mV\u001b[0m\u001b[0;34m,\u001b[0m\u001b[0msvd2\u001b[0m\u001b[0;34m.\u001b[0m\u001b[0mV\u001b[0m\u001b[0;34m)\u001b[0m\u001b[0;34m\u001b[0m\u001b[0m\n\u001b[0m",
      "\u001b[0;31mTypeError\u001b[0m: unsupported operand type(s) for *: 'DenseMatrix' and 'DenseMatrix'"
     ]
    }
   ],
   "source": [
    "dot(svd2.V,svd2.V)"
   ]
  },
  {
   "cell_type": "code",
   "execution_count": null,
   "metadata": {
    "collapsed": true
   },
   "outputs": [],
   "source": [
    "svd2.V."
   ]
  }
 ],
 "metadata": {
  "kernelspec": {
   "display_name": "Python 3",
   "language": "python",
   "name": "python3"
  },
  "language_info": {
   "codemirror_mode": {
    "name": "ipython",
    "version": 3
   },
   "file_extension": ".py",
   "mimetype": "text/x-python",
   "name": "python",
   "nbconvert_exporter": "python",
   "pygments_lexer": "ipython3",
   "version": "3.5.2"
  }
 },
 "nbformat": 4,
 "nbformat_minor": 2
}
