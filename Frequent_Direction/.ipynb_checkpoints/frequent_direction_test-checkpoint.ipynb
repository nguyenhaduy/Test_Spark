{
 "cells": [
  {
   "cell_type": "code",
   "execution_count": 1,
   "metadata": {
    "collapsed": true
   },
   "outputs": [],
   "source": [
    "from numpy import zeros, max, sqrt, isnan, isinf, dot, diag, count_nonzero\n",
    "from numpy.linalg import svd, linalg, LinAlgError, norm\n",
    "from scipy.linalg import svd as scipy_svd\n",
    "#from scipy.sparse.linalg import svds as scipy_svds"
   ]
  },
  {
   "cell_type": "code",
   "execution_count": 2,
   "metadata": {
    "collapsed": true
   },
   "outputs": [],
   "source": [
    "from frequent_direction import FrequentDirections"
   ]
  },
  {
   "cell_type": "code",
   "execution_count": 3,
   "metadata": {
    "collapsed": true
   },
   "outputs": [],
   "source": [
    "# Testing\n",
    "import numpy as np"
   ]
  },
  {
   "cell_type": "code",
   "execution_count": 4,
   "metadata": {},
   "outputs": [
    {
     "data": {
      "text/plain": [
       "array([  5.84662643,  86.20980265,   4.38964452,   0.19743273,\n",
       "         2.30264474,  54.11654826,  19.47568398,  88.73769891,\n",
       "        35.10663598,  57.79773804,   0.30628015,  85.39631986,\n",
       "        79.90896104,  27.43096824,   3.76225211,  76.19792577])"
      ]
     },
     "execution_count": 4,
     "metadata": {},
     "output_type": "execute_result"
    }
   ],
   "source": [
    "A = 100* np.random.rand(1000,16)\n",
    "A[1,:]"
   ]
  },
  {
   "cell_type": "code",
   "execution_count": 5,
   "metadata": {
    "collapsed": true
   },
   "outputs": [],
   "source": [
    "l = 10\n",
    "fd =  FrequentDirections(l,16)\n",
    "for i in range(1000):\n",
    "    row = A[i,:]\n",
    "    fd.add(row)"
   ]
  },
  {
   "cell_type": "code",
   "execution_count": 6,
   "metadata": {
    "scrolled": true
   },
   "outputs": [
    {
     "data": {
      "text/plain": [
       "array([[ -1.60757778e+03,  -1.63033541e+03,  -1.56181385e+03,\n",
       "         -1.60454975e+03,  -1.60062441e+03,  -1.57764906e+03,\n",
       "         -1.62493919e+03,  -1.53320165e+03,  -1.65140122e+03,\n",
       "         -1.59345194e+03,  -1.58682518e+03,  -1.62593586e+03,\n",
       "         -1.57743621e+03,  -1.58155099e+03,  -1.59907487e+03,\n",
       "         -1.62866139e+03],\n",
       "       [  1.84879319e+02,   1.22497206e+02,   4.18129256e+02,\n",
       "         -1.41971388e+02,   2.81527355e+02,  -2.14287118e+02,\n",
       "         -4.60023020e+00,  -2.16767294e+02,  -1.30439581e+02,\n",
       "         -6.93870871e+00,  -3.12563059e+02,   1.01095343e+02,\n",
       "          2.40593310e+02,  -5.47271642e+02,   2.51098709e+02,\n",
       "         -3.21252825e+01],\n",
       "       [  3.24313367e+01,   2.83184568e+02,  -2.00702534e+02,\n",
       "         -2.84425335e+02,   4.99449756e+01,  -2.12167225e+01,\n",
       "         -3.24803055e+02,   6.49881952e+01,   2.79032990e+02,\n",
       "         -2.09889561e+02,  -2.25115531e+02,   2.63720209e+02,\n",
       "          7.65050917e+01,  -1.17071197e+01,  -2.95066015e+02,\n",
       "          4.96993412e+02],\n",
       "       [ -4.56003304e+00,   2.04038028e+02,  -2.46713961e+02,\n",
       "          1.25000786e+02,   1.95453901e+02,   2.66356326e+02,\n",
       "          2.33908289e+02,  -3.33681285e+02,   8.30577925e+01,\n",
       "          1.50984663e+02,  -5.23015793e+02,   1.30774950e+02,\n",
       "         -2.74213499e+01,   1.90535435e+02,  -1.46463481e+02,\n",
       "         -3.23238001e+02],\n",
       "       [ -7.69561777e+01,   2.86720061e+02,   1.27522093e+02,\n",
       "         -2.65107558e+02,  -4.70075766e+02,   1.82483867e+02,\n",
       "         -7.73649963e+00,   3.84555844e+02,  -7.37498906e+00,\n",
       "          3.49041352e+02,  -1.44041875e+02,   1.21882386e+02,\n",
       "         -9.00774014e+01,  -1.77134418e+02,   1.91805187e+01,\n",
       "         -2.16173379e+02],\n",
       "       [  2.34519023e+01,   6.24959405e+01,   5.27881973e+01,\n",
       "          2.97933181e+01,   3.02298460e+01,   8.43334196e+01,\n",
       "          5.12670569e+01,   1.16381119e+01,   9.53895223e+01,\n",
       "          2.78177812e+01,   5.29713962e+01,   5.50383744e+01,\n",
       "          2.14955528e+01,   8.85573525e+01,   4.49464702e+01,\n",
       "          6.01131965e+01],\n",
       "       [  2.84572779e+01,   2.92297425e+01,   5.68886900e+01,\n",
       "          2.62973490e+01,   6.23994048e+01,   3.83198868e+01,\n",
       "          6.43250741e+01,   9.75590347e+01,   2.09369497e+01,\n",
       "          4.12519754e+01,   7.27913800e+01,   7.16737656e+01,\n",
       "          4.07850690e+01,   9.31234761e+01,   8.34404426e+01,\n",
       "          2.78300258e+01],\n",
       "       [  8.63852364e+01,   1.51347246e+00,   9.62022061e+01,\n",
       "          8.81521878e+01,   3.21779245e+01,   2.28126886e+01,\n",
       "          3.95708550e+01,   8.05088005e+01,   8.27199775e+01,\n",
       "          8.98244734e+01,   8.20783293e+01,   2.34226294e+01,\n",
       "          8.77594613e+01,   7.05462021e+00,   5.91002435e+01,\n",
       "          9.04791433e+01],\n",
       "       [  5.90232535e+01,   6.08205253e+01,   8.06295951e+00,\n",
       "          7.54411860e+01,   8.53633837e+01,   8.28222431e+01,\n",
       "          6.35844919e+01,   5.20206810e+01,   5.61531915e+01,\n",
       "          4.36604388e+01,   7.08329024e+01,   8.89538397e+01,\n",
       "          3.65853615e+01,   6.88134434e+01,   2.40493483e+01,\n",
       "          2.06954834e+01],\n",
       "       [  9.26286252e+01,   6.13381207e+01,   8.95314877e+01,\n",
       "          2.78377581e+01,   3.94848486e+01,   8.45835152e+01,\n",
       "          5.96629134e+01,   6.78634975e+00,   8.30229934e+01,\n",
       "          5.41323467e+01,   6.44236188e+01,   4.32246001e+01,\n",
       "          1.87275212e+01,   3.97310015e+01,   3.43760439e+01,\n",
       "          1.59763299e+01]])"
      ]
     },
     "execution_count": 6,
     "metadata": {},
     "output_type": "execute_result"
    }
   ],
   "source": [
    "B = fd.get()\n",
    "B"
   ]
  },
  {
   "cell_type": "code",
   "execution_count": 7,
   "metadata": {
    "collapsed": true
   },
   "outputs": [],
   "source": [
    "approxCovarianceMatrixB = dot(B.transpose(),B)"
   ]
  },
  {
   "cell_type": "code",
   "execution_count": 8,
   "metadata": {
    "collapsed": true
   },
   "outputs": [],
   "source": [
    "approxCovarianceMatrixA = dot(A.transpose(),A)"
   ]
  },
  {
   "cell_type": "code",
   "execution_count": 9,
   "metadata": {
    "collapsed": true
   },
   "outputs": [],
   "source": [
    "testMatrix = approxCovarianceMatrixA - approxCovarianceMatrixB"
   ]
  },
  {
   "cell_type": "code",
   "execution_count": 10,
   "metadata": {},
   "outputs": [
    {
     "data": {
      "text/plain": [
       "924835.81953612785"
      ]
     },
     "execution_count": 10,
     "metadata": {},
     "output_type": "execute_result"
    }
   ],
   "source": [
    "norm(testMatrix,ord=2)"
   ]
  },
  {
   "cell_type": "code",
   "execution_count": 11,
   "metadata": {
    "scrolled": true
   },
   "outputs": [
    {
     "data": {
      "text/plain": [
       "5370754.3229825469"
      ]
     },
     "execution_count": 11,
     "metadata": {},
     "output_type": "execute_result"
    }
   ],
   "source": [
    "(norm(A,ord='fro'))**2/l"
   ]
  },
  {
   "cell_type": "code",
   "execution_count": 12,
   "metadata": {
    "collapsed": true
   },
   "outputs": [],
   "source": [
    "[U,s,Vt] = svd(A , full_matrices=False)"
   ]
  },
  {
   "cell_type": "code",
   "execution_count": 13,
   "metadata": {
    "collapsed": true
   },
   "outputs": [],
   "source": [
    "# Calculate Ak\n",
    "for k in range(1:9)\n",
    "    #k = 1\n",
    "    s = s[:k]\n",
    "    U = U[:,:k]\n",
    "    Vt = Vt[:k,:]\n",
    "    Ak = dot(dot(U,diag(s)),Vt)\n",
    "    (norm((A-Ak),ord='fro'))**2/(l-k)"
   ]
  },
  {
   "cell_type": "code",
   "execution_count": 20,
   "metadata": {},
   "outputs": [
    {
     "data": {
      "text/plain": [
       "1394019.9075011068"
      ]
     },
     "execution_count": 20,
     "metadata": {},
     "output_type": "execute_result"
    }
   ],
   "source": [
    "(norm((A-Ak),ord='fro'))**2/(l-k)"
   ]
  },
  {
   "cell_type": "code",
   "execution_count": 15,
   "metadata": {
    "collapsed": true
   },
   "outputs": [],
   "source": []
  },
  {
   "cell_type": "code",
   "execution_count": 16,
   "metadata": {
    "collapsed": true
   },
   "outputs": [],
   "source": []
  },
  {
   "cell_type": "code",
   "execution_count": null,
   "metadata": {
    "collapsed": true
   },
   "outputs": [],
   "source": []
  },
  {
   "cell_type": "code",
   "execution_count": null,
   "metadata": {
    "collapsed": true
   },
   "outputs": [],
   "source": []
  },
  {
   "cell_type": "code",
   "execution_count": null,
   "metadata": {
    "collapsed": true
   },
   "outputs": [],
   "source": []
  },
  {
   "cell_type": "code",
   "execution_count": null,
   "metadata": {
    "collapsed": true
   },
   "outputs": [],
   "source": []
  },
  {
   "cell_type": "code",
   "execution_count": null,
   "metadata": {
    "collapsed": true
   },
   "outputs": [],
   "source": []
  },
  {
   "cell_type": "code",
   "execution_count": null,
   "metadata": {
    "collapsed": true
   },
   "outputs": [],
   "source": []
  },
  {
   "cell_type": "code",
   "execution_count": null,
   "metadata": {
    "collapsed": true
   },
   "outputs": [],
   "source": []
  },
  {
   "cell_type": "code",
   "execution_count": null,
   "metadata": {
    "collapsed": true
   },
   "outputs": [],
   "source": []
  }
 ],
 "metadata": {
  "kernelspec": {
   "display_name": "Python 3",
   "language": "python",
   "name": "python3"
  },
  "language_info": {
   "codemirror_mode": {
    "name": "ipython",
    "version": 3
   },
   "file_extension": ".py",
   "mimetype": "text/x-python",
   "name": "python",
   "nbconvert_exporter": "python",
   "pygments_lexer": "ipython3",
   "version": "3.5.2"
  }
 },
 "nbformat": 4,
 "nbformat_minor": 2
}
