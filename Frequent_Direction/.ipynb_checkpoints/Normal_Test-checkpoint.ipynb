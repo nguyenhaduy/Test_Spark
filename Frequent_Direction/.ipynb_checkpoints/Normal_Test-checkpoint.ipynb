{
 "cells": [
  {
   "cell_type": "code",
   "execution_count": 1,
   "metadata": {
    "collapsed": true
   },
   "outputs": [],
   "source": [
    "import numpy as np\n",
    "from frequent_direction import FrequentDirections"
   ]
  },
  {
   "cell_type": "code",
   "execution_count": 2,
   "metadata": {},
   "outputs": [
    {
     "data": {
      "text/plain": [
       "(10000, 500)"
      ]
     },
     "execution_count": 2,
     "metadata": {},
     "output_type": "execute_result"
    }
   ],
   "source": [
    "filename = '/home/duynguyen/Downloads/matrix.csv'\n",
    "raw_data = open(filename, 'rt')\n",
    "A = np.loadtxt(raw_data, delimiter=\",\")\n",
    "A.shape"
   ]
  },
  {
   "cell_type": "code",
   "execution_count": 3,
   "metadata": {},
   "outputs": [
    {
     "name": "stdout",
     "output_type": "stream",
     "text": [
      "Matrix Sketching Using iSVD\n",
      "Matrix Sketching Using iSVD\n",
      "Matrix Sketching Using iSVD\n",
      "Matrix Sketching Using iSVD\n",
      "Matrix Sketching Using iSVD\n",
      "Matrix Sketching Using iSVD\n",
      "Matrix Sketching Using iSVD\n",
      "Matrix Sketching Using iSVD\n",
      "Matrix Sketching Using iSVD\n"
     ]
    }
   ],
   "source": [
    "# Iterative SVD\n",
    "Test1 = np.zeros(9)\n",
    "approxCovarianceMatrixA = np.dot(A.transpose(),A)\n",
    "for j in range(9):    \n",
    "    l = 20 + 10*j\n",
    "    fd =  FrequentDirections(l,500,op='isvd')\n",
    "    for i in range(10000):\n",
    "        row = A[i,:]\n",
    "        fd.add(row)\n",
    "    B = fd.getSketchMatrix()\n",
    "    approxCovarianceMatrixB = np.dot(B.transpose(),B)\n",
    "    testMatrix = approxCovarianceMatrixA - approxCovarianceMatrixB\n",
    "    Test1[j] = np.linalg.norm(testMatrix,ord=2)\n",
    "    del(fd)"
   ]
  },
  {
   "cell_type": "code",
   "execution_count": 4,
   "metadata": {},
   "outputs": [
    {
     "data": {
      "text/plain": [
       "array([ 147.43029048,  145.49213715,  144.01259986,  142.74052943,\n",
       "        142.21877052,  141.20936057,  139.1637802 ,  137.9805194 ,\n",
       "        137.14015163])"
      ]
     },
     "execution_count": 4,
     "metadata": {},
     "output_type": "execute_result"
    }
   ],
   "source": [
    "Test1"
   ]
  },
  {
   "cell_type": "code",
   "execution_count": 5,
   "metadata": {},
   "outputs": [
    {
     "name": "stdout",
     "output_type": "stream",
     "text": [
      "Matrix Sketching Using Space Saving Direction\n",
      "Matrix Sketching Using Space Saving Direction\n",
      "Matrix Sketching Using Space Saving Direction\n",
      "Matrix Sketching Using Space Saving Direction\n",
      "Matrix Sketching Using Space Saving Direction\n",
      "Matrix Sketching Using Space Saving Direction\n",
      "Matrix Sketching Using Space Saving Direction\n",
      "Matrix Sketching Using Space Saving Direction\n",
      "Matrix Sketching Using Space Saving Direction\n"
     ]
    }
   ],
   "source": [
    "#Space Saving Direction\n",
    "Test2 = np.zeros(9)\n",
    "for j in range(9):    \n",
    "    l = 20 + 10*j\n",
    "    fd =  FrequentDirections(l,500,op='ssd')\n",
    "    for i in range(10000):\n",
    "        row = A[i,:]\n",
    "        fd.add(row)\n",
    "    B = fd.getSketchMatrix()\n",
    "    approxCovarianceMatrixB = np.dot(B.transpose(),B)\n",
    "    testMatrix = approxCovarianceMatrixA - approxCovarianceMatrixB\n",
    "    Test2[j] = np.linalg.norm(testMatrix,ord=2)\n",
    "    del(fd)"
   ]
  },
  {
   "cell_type": "code",
   "execution_count": 6,
   "metadata": {},
   "outputs": [
    {
     "data": {
      "text/plain": [
       "array([ 3436.75083988,  1967.6450369 ,  1363.58768331,  1033.67433617,\n",
       "         827.66624022,   685.99262589,   583.14640768,   504.24018175,\n",
       "         442.88476387])"
      ]
     },
     "execution_count": 6,
     "metadata": {},
     "output_type": "execute_result"
    }
   ],
   "source": [
    "Test2"
   ]
  },
  {
   "cell_type": "code",
   "execution_count": 7,
   "metadata": {},
   "outputs": [
    {
     "name": "stdout",
     "output_type": "stream",
     "text": [
      "Matrix Sketching Using Frequent Direction\n",
      "Matrix Sketching Using Frequent Direction\n",
      "Matrix Sketching Using Frequent Direction\n",
      "Matrix Sketching Using Frequent Direction\n",
      "Matrix Sketching Using Frequent Direction\n",
      "Matrix Sketching Using Frequent Direction\n",
      "Matrix Sketching Using Frequent Direction\n",
      "Matrix Sketching Using Frequent Direction\n",
      "Matrix Sketching Using Frequent Direction\n"
     ]
    }
   ],
   "source": [
    "# Frequent Direction\n",
    "Test3 = np.zeros(9)\n",
    "for j in range(9):    \n",
    "    l = 20 + 10*j\n",
    "    fd =  FrequentDirections(l,500,op='fd')\n",
    "    for i in range(10000):\n",
    "        row = A[i,:]\n",
    "        fd.add(row)\n",
    "    B = fd.getSketchMatrix()\n",
    "    approxCovarianceMatrixB = np.dot(B.transpose(),B)\n",
    "    testMatrix = approxCovarianceMatrixA - approxCovarianceMatrixB\n",
    "    Test3[j] = np.linalg.norm(testMatrix,ord=2)\n",
    "    del(fd)"
   ]
  },
  {
   "cell_type": "code",
   "execution_count": 8,
   "metadata": {},
   "outputs": [
    {
     "data": {
      "text/plain": [
       "array([ 3286.00747022,  1972.41198769,  1408.52759043,  1095.2842943 ,\n",
       "         895.62978012,   757.60698645,   656.19522901,   578.6215704 ,\n",
       "         517.3134761 ])"
      ]
     },
     "execution_count": 8,
     "metadata": {},
     "output_type": "execute_result"
    }
   ],
   "source": [
    "Test3"
   ]
  },
  {
   "cell_type": "code",
   "execution_count": 10,
   "metadata": {},
   "outputs": [
    {
     "name": "stdout",
     "output_type": "stream",
     "text": [
      "Matrix Sketching Using Parameterized Frequent Direction\n",
      "Matrix Sketching Using Parameterized Frequent Direction\n",
      "Matrix Sketching Using Parameterized Frequent Direction\n",
      "Matrix Sketching Using Parameterized Frequent Direction\n",
      "Matrix Sketching Using Parameterized Frequent Direction\n",
      "Matrix Sketching Using Parameterized Frequent Direction\n",
      "Matrix Sketching Using Parameterized Frequent Direction\n",
      "Matrix Sketching Using Parameterized Frequent Direction\n",
      "Matrix Sketching Using Parameterized Frequent Direction\n"
     ]
    }
   ],
   "source": [
    "# 0.2 Parameterized Frequent Direction\n",
    "Test4 = np.zeros(9)\n",
    "for j in range(9):    \n",
    "    l = 20 + 10*j\n",
    "    fd =  FrequentDirections(l,500,op=0.2)\n",
    "    for i in range(10000):\n",
    "        row = A[i,:]\n",
    "        fd.add(row)\n",
    "    B = fd.getSketchMatrix()\n",
    "    approxCovarianceMatrixB = np.dot(B.transpose(),B)\n",
    "    testMatrix = approxCovarianceMatrixA - approxCovarianceMatrixB\n",
    "    Test4[j] = np.linalg.norm(testMatrix,ord=2)\n",
    "    del(fd)"
   ]
  },
  {
   "cell_type": "code",
   "execution_count": 11,
   "metadata": {},
   "outputs": [
    {
     "data": {
      "text/plain": [
       "array([ 147.63251793,  146.40123291,  144.92598938,  143.8276416 ,\n",
       "        142.5100789 ,  142.17963047,  141.95930212,  140.6736574 ,\n",
       "        138.96201635])"
      ]
     },
     "execution_count": 11,
     "metadata": {},
     "output_type": "execute_result"
    }
   ],
   "source": [
    "Test4"
   ]
  },
  {
   "cell_type": "code",
   "execution_count": 12,
   "metadata": {},
   "outputs": [
    {
     "name": "stdout",
     "output_type": "stream",
     "text": [
      "Matrix Sketching Using Parameterized Frequent Direction\n",
      "Matrix Sketching Using Parameterized Frequent Direction\n",
      "Matrix Sketching Using Parameterized Frequent Direction\n",
      "Matrix Sketching Using Parameterized Frequent Direction\n",
      "Matrix Sketching Using Parameterized Frequent Direction\n",
      "Matrix Sketching Using Parameterized Frequent Direction\n",
      "Matrix Sketching Using Parameterized Frequent Direction\n",
      "Matrix Sketching Using Parameterized Frequent Direction\n",
      "Matrix Sketching Using Parameterized Frequent Direction\n"
     ]
    }
   ],
   "source": [
    "# 0.8 Parameterized Frequent Direction\n",
    "Test5 = np.zeros(9)\n",
    "for j in range(9):    \n",
    "    l = 20 + 10*j\n",
    "    fd =  FrequentDirections(l,500,op=0.8)\n",
    "    for i in range(10000):\n",
    "        row = A[i,:]\n",
    "        fd.add(row)\n",
    "    B = fd.getSketchMatrix()\n",
    "    approxCovarianceMatrixB = np.dot(B.transpose(),B)\n",
    "    testMatrix = approxCovarianceMatrixA - approxCovarianceMatrixB\n",
    "    Test5[j] = np.linalg.norm(testMatrix,ord=2)\n",
    "    del(fd)"
   ]
  },
  {
   "cell_type": "code",
   "execution_count": 13,
   "metadata": {},
   "outputs": [
    {
     "data": {
      "text/plain": [
       "array([ 3265.12907036,   148.39122677,   148.02807582,   147.79064665,\n",
       "         147.27386307,   147.02916577,   146.89680773,   146.57335658,\n",
       "         146.45907205])"
      ]
     },
     "execution_count": 13,
     "metadata": {},
     "output_type": "execute_result"
    }
   ],
   "source": [
    "Test5"
   ]
  },
  {
   "cell_type": "code",
   "execution_count": 15,
   "metadata": {},
   "outputs": [],
   "source": [
    "import matplotlib.pyplot as plt\n",
    "%matplotlib inline"
   ]
  },
  {
   "cell_type": "code",
   "execution_count": 22,
   "metadata": {},
   "outputs": [
    {
     "data": {
      "text/plain": [
       "<matplotlib.legend.Legend at 0x7f8bf8047dd8>"
      ]
     },
     "execution_count": 22,
     "metadata": {},
     "output_type": "execute_result"
    },
    {
     "data": {
      "image/png": "[encoded data removed]",
      "text/plain": [
       "<matplotlib.figure.Figure at 0x7f8bd85660f0>"
      ]
     },
     "metadata": {},
     "output_type": "display_data"
    }
   ],
   "source": [
    "plt.figure(figsize=(15,10))\n",
    "plt.title('Test Result for Random Noisy Data', size='xx-large')\n",
    "plt.ylabel('Error', size='x-large')\n",
    "plt.plot(Test1, 'r*-', markersize=10, linewidth=2, label='iSVD')\n",
    "plt.plot(Test2, 'bo-', markersize=10, linewidth=2, label='SSD')\n",
    "plt.plot(Test3, 'gv-', markersize=10, linewidth=2, label='FD')\n",
    "plt.plot(Test4, 'y^-', markersize=10, linewidth=2, label='0.2PFD')\n",
    "plt.plot(Test5, 'c,-', markersize=10, linewidth=2, label='0.8PFD')\n",
    "plt.tick_params(axis='both', which='major', labelsize=14)\n",
    "plt.legend(loc=(0.75,0.75), scatterpoints=1)"
   ]
  },
  {
   "cell_type": "code",
   "execution_count": null,
   "metadata": {
    "collapsed": true
   },
   "outputs": [],
   "source": []
  }
 ],
 "metadata": {
  "kernelspec": {
   "display_name": "Python 3",
   "language": "python",
   "name": "python3"
  },
  "language_info": {
   "codemirror_mode": {
    "name": "ipython",
    "version": 3
   },
   "file_extension": ".py",
   "mimetype": "text/x-python",
   "name": "python",
   "nbconvert_exporter": "python",
   "pygments_lexer": "ipython3",
   "version": "3.5.2"
  }
 },
 "nbformat": 4,
 "nbformat_minor": 2
}
