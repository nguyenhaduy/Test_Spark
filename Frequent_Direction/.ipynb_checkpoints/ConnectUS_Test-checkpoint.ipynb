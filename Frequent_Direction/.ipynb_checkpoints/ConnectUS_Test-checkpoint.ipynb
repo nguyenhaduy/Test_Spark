{
 "cells": [
  {
   "cell_type": "code",
   "execution_count": 9,
   "metadata": {
    "collapsed": true
   },
   "outputs": [],
   "source": [
    "import numpy as np\n",
    "import scipy as sc\n",
    "from frequent_direction import FrequentDirections\n",
    "from scipy.io import mmread"
   ]
  },
  {
   "cell_type": "code",
   "execution_count": 10,
   "metadata": {
    "collapsed": true
   },
   "outputs": [],
   "source": [
    "data = mmread('/home/duynguyen/Downloads/connectus/connectus.mtx')"
   ]
  },
  {
   "cell_type": "code",
   "execution_count": 11,
   "metadata": {
    "collapsed": true
   },
   "outputs": [],
   "source": [
    "temp = data.toarray()"
   ]
  },
  {
   "cell_type": "code",
   "execution_count": 12,
   "metadata": {
    "collapsed": true
   },
   "outputs": [],
   "source": [
    "A = temp.transpose()"
   ]
  },
  {
   "cell_type": "code",
   "execution_count": 13,
   "metadata": {
    "collapsed": true
   },
   "outputs": [],
   "source": [
    "del(data)\n",
    "del(temp)"
   ]
  },
  {
   "cell_type": "code",
   "execution_count": 14,
   "metadata": {},
   "outputs": [
    {
     "data": {
      "text/plain": [
       "array([[  0.00000000e+00,   0.00000000e+00,   0.00000000e+00, ...,\n",
       "          0.00000000e+00,   0.00000000e+00,   0.00000000e+00],\n",
       "       [  0.00000000e+00,   2.13100000e+03,   2.31000000e+02, ...,\n",
       "          0.00000000e+00,   1.00000000e+00,   0.00000000e+00],\n",
       "       [  0.00000000e+00,   2.31000000e+02,   1.31310000e+04, ...,\n",
       "          0.00000000e+00,   0.00000000e+00,   0.00000000e+00],\n",
       "       ..., \n",
       "       [  0.00000000e+00,   0.00000000e+00,   0.00000000e+00, ...,\n",
       "          3.10000000e+01,   0.00000000e+00,   0.00000000e+00],\n",
       "       [  0.00000000e+00,   1.00000000e+00,   0.00000000e+00, ...,\n",
       "          0.00000000e+00,   2.28000000e+02,   0.00000000e+00],\n",
       "       [  0.00000000e+00,   0.00000000e+00,   0.00000000e+00, ...,\n",
       "          0.00000000e+00,   0.00000000e+00,   3.80000000e+01]])"
      ]
     },
     "execution_count": 14,
     "metadata": {},
     "output_type": "execute_result"
    }
   ],
   "source": [
    "approxCovarianceMatrixA = np.dot(A.transpose(),A)\n",
    "approxCovarianceMatrixA"
   ]
  },
  {
   "cell_type": "code",
   "execution_count": 15,
   "metadata": {},
   "outputs": [
    {
     "data": {
      "text/plain": [
       "1061.8498010547444"
      ]
     },
     "execution_count": 15,
     "metadata": {},
     "output_type": "execute_result"
    }
   ],
   "source": [
    "Norm_A = np.linalg.norm(A,ord='fro')\n",
    "Norm_A"
   ]
  },
  {
   "cell_type": "code",
   "execution_count": 16,
   "metadata": {},
   "outputs": [
    {
     "name": "stdout",
     "output_type": "stream",
     "text": [
      "Matrix Sketching Using iSVD\n",
      "Matrix Sketching Using iSVD\n",
      "Matrix Sketching Using iSVD\n",
      "Matrix Sketching Using iSVD\n",
      "Matrix Sketching Using iSVD\n",
      "Matrix Sketching Using iSVD\n",
      "Matrix Sketching Using iSVD\n",
      "Matrix Sketching Using iSVD\n",
      "Matrix Sketching Using iSVD\n"
     ]
    }
   ],
   "source": [
    "# Iterative SVD\n",
    "Test1 = np.zeros(9)\n",
    "for j in range(9):    \n",
    "    l = 20 + 10*j\n",
    "    fd =  FrequentDirections(l,512,op='isvd')\n",
    "    for i in range(394792):\n",
    "        row = A[i,:]\n",
    "        fd.add(row)\n",
    "    B = fd.getSketchMatrix()\n",
    "    approxCovarianceMatrixB = np.dot(B.transpose(),B)\n",
    "    testMatrix = approxCovarianceMatrixA - approxCovarianceMatrixB\n",
    "    Test1[j] = np.linalg.norm(testMatrix,ord=2)/(Norm_A**2)\n",
    "    del(fd)"
   ]
  },
  {
   "cell_type": "code",
   "execution_count": 17,
   "metadata": {},
   "outputs": [
    {
     "data": {
      "text/plain": [
       "array([ 0.04626359,  0.03751108,  0.02501462,  0.01355156,  0.00901289,\n",
       "        0.00772604,  0.00560132,  0.00525279,  0.00429478])"
      ]
     },
     "execution_count": 17,
     "metadata": {},
     "output_type": "execute_result"
    }
   ],
   "source": [
    "Test1"
   ]
  },
  {
   "cell_type": "code",
   "execution_count": 19,
   "metadata": {},
   "outputs": [
    {
     "name": "stdout",
     "output_type": "stream",
     "text": [
      "Matrix Sketching Using Space Saving Direction\n",
      "Matrix Sketching Using Space Saving Direction\n",
      "Matrix Sketching Using Space Saving Direction\n",
      "Matrix Sketching Using Space Saving Direction\n",
      "Matrix Sketching Using Space Saving Direction\n",
      "Matrix Sketching Using Space Saving Direction\n",
      "Matrix Sketching Using Space Saving Direction\n",
      "Matrix Sketching Using Space Saving Direction\n",
      "Matrix Sketching Using Space Saving Direction\n"
     ]
    }
   ],
   "source": [
    "#Space Saving Direction\n",
    "Test2 = np.zeros(9)\n",
    "for j in range(9):    \n",
    "    l = 20 + 10*j\n",
    "    fd =  FrequentDirections(l,512,op='ssd')\n",
    "    for i in range(394792):\n",
    "        row = A[i,:]\n",
    "        fd.add(row)\n",
    "    B = fd.getSketchMatrix()\n",
    "    approxCovarianceMatrixB = np.dot(B.transpose(),B)\n",
    "    testMatrix = approxCovarianceMatrixA - approxCovarianceMatrixB\n",
    "    Test2[j] = np.linalg.norm(testMatrix,ord=2)/(Norm_A**2)\n",
    "    del(fd)"
   ]
  },
  {
   "cell_type": "code",
   "execution_count": 20,
   "metadata": {},
   "outputs": [
    {
     "data": {
      "text/plain": [
       "array([ 0.03879371,  0.02275879,  0.01521577,  0.01080329,  0.00798892,\n",
       "        0.0059705 ,  0.00446608,  0.00339148,  0.00262269])"
      ]
     },
     "execution_count": 20,
     "metadata": {},
     "output_type": "execute_result"
    }
   ],
   "source": [
    "Test2"
   ]
  },
  {
   "cell_type": "code",
   "execution_count": 21,
   "metadata": {
    "scrolled": true
   },
   "outputs": [
    {
     "name": "stdout",
     "output_type": "stream",
     "text": [
      "Matrix Sketching Using Frequent Direction\n",
      "Matrix Sketching Using Frequent Direction\n",
      "Matrix Sketching Using Frequent Direction\n",
      "Matrix Sketching Using Frequent Direction\n",
      "Matrix Sketching Using Frequent Direction\n",
      "Matrix Sketching Using Frequent Direction\n",
      "Matrix Sketching Using Frequent Direction\n",
      "Matrix Sketching Using Frequent Direction\n",
      "Matrix Sketching Using Frequent Direction\n"
     ]
    }
   ],
   "source": [
    "# Frequent Direction\n",
    "Test3 = np.zeros(9)\n",
    "for j in range(9):    \n",
    "    l = 20 + 10*j\n",
    "    fd =  FrequentDirections(l,512,op='fd')\n",
    "    for i in range(394792):\n",
    "        row = A[i,:]\n",
    "        fd.add(row)\n",
    "    B = fd.getSketchMatrix()\n",
    "    approxCovarianceMatrixB = np.dot(B.transpose(),B)\n",
    "    testMatrix = approxCovarianceMatrixA - approxCovarianceMatrixB\n",
    "    Test3[j] = np.linalg.norm(testMatrix,ord=2)/(Norm_A**2)\n",
    "    del(fd)"
   ]
  },
  {
   "cell_type": "code",
   "execution_count": 22,
   "metadata": {},
   "outputs": [
    {
     "data": {
      "text/plain": [
       "array([ 0.03617994,  0.02164291,  0.01464507,  0.0105097 ,  0.00778555,\n",
       "        0.00579216,  0.0043586 ,  0.0033246 ,  0.00257939])"
      ]
     },
     "execution_count": 22,
     "metadata": {},
     "output_type": "execute_result"
    }
   ],
   "source": [
    "Test3"
   ]
  },
  {
   "cell_type": "code",
   "execution_count": 23,
   "metadata": {},
   "outputs": [
    {
     "name": "stdout",
     "output_type": "stream",
     "text": [
      "Matrix Sketching Using Parameterized Frequent Direction\n",
      "Matrix Sketching Using Parameterized Frequent Direction\n",
      "Matrix Sketching Using Parameterized Frequent Direction\n",
      "Matrix Sketching Using Parameterized Frequent Direction\n",
      "Matrix Sketching Using Parameterized Frequent Direction\n",
      "Matrix Sketching Using Parameterized Frequent Direction\n",
      "Matrix Sketching Using Parameterized Frequent Direction\n",
      "Matrix Sketching Using Parameterized Frequent Direction\n",
      "Matrix Sketching Using Parameterized Frequent Direction\n"
     ]
    }
   ],
   "source": [
    "# 0.2 Parameterized Frequent Direction\n",
    "Test4 = np.zeros(9)\n",
    "for j in range(9):    \n",
    "    l = 20 + 10*j\n",
    "    fd =  FrequentDirections(l,512,op=0.2)\n",
    "    for i in range(394792):\n",
    "        row = A[i,:]\n",
    "        fd.add(row)\n",
    "    B = fd.getSketchMatrix()\n",
    "    approxCovarianceMatrixB = np.dot(B.transpose(),B)\n",
    "    testMatrix = approxCovarianceMatrixA - approxCovarianceMatrixB\n",
    "    Test4[j] = np.linalg.norm(testMatrix,ord=2)/(Norm_A**2)\n",
    "    del(fd)"
   ]
  },
  {
   "cell_type": "code",
   "execution_count": 24,
   "metadata": {},
   "outputs": [
    {
     "data": {
      "text/plain": [
       "array([ 0.01643039,  0.01011219,  0.00867995,  0.00589157,  0.00454629,\n",
       "        0.00393005,  0.00308618,  0.00219552,  0.00197336])"
      ]
     },
     "execution_count": 24,
     "metadata": {},
     "output_type": "execute_result"
    }
   ],
   "source": [
    "Test4"
   ]
  },
  {
   "cell_type": "code",
   "execution_count": 25,
   "metadata": {},
   "outputs": [
    {
     "name": "stdout",
     "output_type": "stream",
     "text": [
      "Matrix Sketching Using Parameterized Frequent Direction\n",
      "Matrix Sketching Using Parameterized Frequent Direction\n",
      "Matrix Sketching Using Parameterized Frequent Direction\n",
      "Matrix Sketching Using Parameterized Frequent Direction\n",
      "Matrix Sketching Using Parameterized Frequent Direction\n",
      "Matrix Sketching Using Parameterized Frequent Direction\n",
      "Matrix Sketching Using Parameterized Frequent Direction\n",
      "Matrix Sketching Using Parameterized Frequent Direction\n",
      "Matrix Sketching Using Parameterized Frequent Direction\n"
     ]
    }
   ],
   "source": [
    "# 0.8 Parameterized Frequent Direction\n",
    "Test5 = np.zeros(9)\n",
    "for j in range(9):    \n",
    "    l = 20 + 10*j\n",
    "    fd =  FrequentDirections(l,512,op=0.8)\n",
    "    for i in range(394792):\n",
    "        row = A[i,:]\n",
    "        fd.add(row)\n",
    "    B = fd.getSketchMatrix()\n",
    "    approxCovarianceMatrixB = np.dot(B.transpose(),B)\n",
    "    testMatrix = approxCovarianceMatrixA - approxCovarianceMatrixB\n",
    "    Test5[j] = np.linalg.norm(testMatrix,ord=2)/(Norm_A**2)\n",
    "    del(fd)"
   ]
  },
  {
   "cell_type": "code",
   "execution_count": 26,
   "metadata": {},
   "outputs": [
    {
     "data": {
      "text/plain": [
       "array([ 0.0285375 ,  0.01942319,  0.01443317,  0.01053483,  0.00778241,\n",
       "        0.00578561,  0.00435553,  0.00332577,  0.00257931])"
      ]
     },
     "execution_count": 26,
     "metadata": {},
     "output_type": "execute_result"
    }
   ],
   "source": [
    "Test5"
   ]
  },
  {
   "cell_type": "code",
   "execution_count": 1,
   "metadata": {
    "collapsed": true
   },
   "outputs": [],
   "source": [
    "Test_1 = [ 0.04626359,  0.03751108,  0.02501462,  0.01355156,  0.00901289,\n",
    "        0.00772604,  0.00560132,  0.00525279,  0.00429478]"
   ]
  },
  {
   "cell_type": "code",
   "execution_count": 2,
   "metadata": {
    "collapsed": true
   },
   "outputs": [],
   "source": [
    "Test_2 = [ 0.03879371,  0.02275879,  0.01521577,  0.01080329,  0.00798892,\n",
    "        0.0059705 ,  0.00446608,  0.00339148,  0.00262269]"
   ]
  },
  {
   "cell_type": "code",
   "execution_count": 3,
   "metadata": {
    "collapsed": true
   },
   "outputs": [],
   "source": [
    "Test_3 = [ 0.03617994,  0.02164291,  0.01464507,  0.0105097 ,  0.00778555,\n",
    "        0.00579216,  0.0043586 ,  0.0033246 ,  0.00257939]"
   ]
  },
  {
   "cell_type": "code",
   "execution_count": 4,
   "metadata": {
    "collapsed": true
   },
   "outputs": [],
   "source": [
    "Test_4 = [ 0.01643039,  0.01011219,  0.00867995,  0.00589157,  0.00454629,\n",
    "        0.00393005,  0.00308618,  0.00219552,  0.00197336]"
   ]
  },
  {
   "cell_type": "code",
   "execution_count": 5,
   "metadata": {
    "collapsed": true
   },
   "outputs": [],
   "source": [
    "Test_5 = [ 0.0285375 ,  0.01942319,  0.01443317,  0.01053483,  0.00778241,\n",
    "        0.00578561,  0.00435553,  0.00332577,  0.00257931]"
   ]
  },
  {
   "cell_type": "code",
   "execution_count": 6,
   "metadata": {
    "collapsed": true
   },
   "outputs": [],
   "source": [
    "import matplotlib.pyplot as plt\n",
    "%matplotlib inline"
   ]
  },
  {
   "cell_type": "code",
   "execution_count": 7,
   "metadata": {},
   "outputs": [
    {
     "data": {
      "text/plain": [
       "<matplotlib.legend.Legend at 0x7fef13fc9748>"
      ]
     },
     "execution_count": 7,
     "metadata": {},
     "output_type": "execute_result"
    },
    {
     "data": {
      "image/png": "[encoded data removed]",
      "text/plain": [
       "<matplotlib.figure.Figure at 0x7fef16050908>"
      ]
     },
     "metadata": {},
     "output_type": "display_data"
    }
   ],
   "source": [
    "x = [20,30,40,50,60,70,80,90,100]\n",
    "plt.figure(figsize=(15,10))\n",
    "plt.title('Test Result for Random Noisy Data', size='xx-large')\n",
    "plt.ylabel('Covariance Error', size='x-large')\n",
    "plt.xlabel('Sketch Size', size='x-large')\n",
    "plt.plot(x,Test_1, 'r*-', markersize=10, linewidth=2, label='iSVD')\n",
    "plt.plot(x,Test_2, 'bo-', markersize=10, linewidth=2, label='SSD')\n",
    "plt.plot(x,Test_3, 'gv-', markersize=10, linewidth=2, label='FD')\n",
    "plt.plot(x,Test_4, 'y^-', markersize=10, linewidth=2, label='0.2PFD')\n",
    "plt.plot(x,Test_5, 'c,-', markersize=10, linewidth=2, label='0.8PFD')\n",
    "plt.tick_params(axis='both', which='major', labelsize=14)\n",
    "plt.legend(loc=(0.75,0.75), scatterpoints=1)"
   ]
  },
  {
   "cell_type": "code",
   "execution_count": null,
   "metadata": {
    "collapsed": true
   },
   "outputs": [],
   "source": []
  }
 ],
 "metadata": {
  "kernelspec": {
   "display_name": "Python 3",
   "language": "python",
   "name": "python3"
  },
  "language_info": {
   "codemirror_mode": {
    "name": "ipython",
    "version": 3
   },
   "file_extension": ".py",
   "mimetype": "text/x-python",
   "name": "python",
   "nbconvert_exporter": "python",
   "pygments_lexer": "ipython3",
   "version": "3.5.2"
  }
 },
 "nbformat": 4,
 "nbformat_minor": 2
}
