{
 "cells": [
  {
   "cell_type": "code",
   "execution_count": 1,
   "metadata": {
    "collapsed": true
   },
   "outputs": [],
   "source": [
    "import numpy as np"
   ]
  },
  {
   "cell_type": "code",
   "execution_count": 13,
   "metadata": {},
   "outputs": [],
   "source": [
    "a = np.random.randn(5, 10)*1/(5**(1/2))"
   ]
  },
  {
   "cell_type": "code",
   "execution_count": 15,
   "metadata": {},
   "outputs": [
    {
     "data": {
      "text/plain": [
       "array([[ 0.30911548,  0.60727934, -0.03766069,  0.78652884, -0.07999536,\n",
       "        -0.57344963, -0.34234337, -0.06171524,  0.12061348, -0.44835654],\n",
       "       [ 1.07091082, -0.12716606,  0.02663678,  0.18687608,  0.20347201,\n",
       "         0.25785725, -0.47821364, -0.06045051,  0.13172639, -0.23844717],\n",
       "       [ 0.05722571,  0.21443384,  0.1601699 , -0.01411426,  0.96489184,\n",
       "        -0.12593584,  1.00112295, -0.1093285 , -0.11017657,  0.12648109],\n",
       "       [ 0.26916255,  0.31965598, -0.16245929,  1.31912715,  0.69514273,\n",
       "         0.15322568, -0.57568755,  0.53503152, -0.03513053, -0.96351603],\n",
       "       [-0.29213016, -0.07083631,  0.28810675,  0.10914298, -0.73507384,\n",
       "        -1.18822988, -1.05481936,  0.87603342, -0.10667932, -0.15149678]])"
      ]
     },
     "execution_count": 15,
     "metadata": {},
     "output_type": "execute_result"
    }
   ],
   "source": [
    "a"
   ]
  },
  {
   "cell_type": "code",
   "execution_count": 10,
   "metadata": {},
   "outputs": [
    {
     "data": {
      "text/plain": [
       "(5, 5)"
      ]
     },
     "execution_count": 10,
     "metadata": {},
     "output_type": "execute_result"
    }
   ],
   "source": [
    "q.shape"
   ]
  },
  {
   "cell_type": "code",
   "execution_count": 8,
   "metadata": {},
   "outputs": [
    {
     "data": {
      "text/plain": [
       "(5, 10)"
      ]
     },
     "execution_count": 8,
     "metadata": {},
     "output_type": "execute_result"
    }
   ],
   "source": [
    "r.shape"
   ]
  },
  {
   "cell_type": "code",
   "execution_count": null,
   "metadata": {
    "collapsed": true
   },
   "outputs": [],
   "source": []
  }
 ],
 "metadata": {
  "kernelspec": {
   "display_name": "Python 3",
   "language": "python",
   "name": "python3"
  },
  "language_info": {
   "codemirror_mode": {
    "name": "ipython",
    "version": 3
   },
   "file_extension": ".py",
   "mimetype": "text/x-python",
   "name": "python",
   "nbconvert_exporter": "python",
   "pygments_lexer": "ipython3",
   "version": "3.5.2"
  }
 },
 "nbformat": 4,
 "nbformat_minor": 2
}
