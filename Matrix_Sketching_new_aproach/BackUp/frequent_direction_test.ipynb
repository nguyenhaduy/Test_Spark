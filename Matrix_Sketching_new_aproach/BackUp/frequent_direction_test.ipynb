{
 "cells": [
  {
   "cell_type": "code",
   "execution_count": 1,
   "metadata": {
    "collapsed": true
   },
   "outputs": [],
   "source": [
    "from numpy import zeros, max, sqrt, isnan, isinf, dot, diag, count_nonzero\n",
    "from numpy.linalg import svd, linalg, LinAlgError, norm\n",
    "from scipy.linalg import svd as scipy_svd\n",
    "#from scipy.sparse.linalg import svds as scipy_svds"
   ]
  },
  {
   "cell_type": "code",
   "execution_count": 2,
   "metadata": {
    "collapsed": true
   },
   "outputs": [],
   "source": [
    "from frequent_direction import FrequentDirections"
   ]
  },
  {
   "cell_type": "code",
   "execution_count": 3,
   "metadata": {
    "collapsed": true
   },
   "outputs": [],
   "source": [
    "# Testing\n",
    "import numpy as np"
   ]
  },
  {
   "cell_type": "code",
   "execution_count": 34,
   "metadata": {},
   "outputs": [
    {
     "data": {
      "text/plain": [
       "array([  1.25586377,  17.26982135,   4.91651161,  70.81635663,\n",
       "        65.15029573,  95.00709742,  45.8423807 ,  32.64432975,\n",
       "        98.29360881,  69.30573218,  96.35537006,  98.28304938,\n",
       "        11.77396957,  38.88935788,  77.34008412,  53.84939101,\n",
       "        42.80577251,  26.49699189,  59.56526676,  12.49953927,\n",
       "        45.34846591,  77.12706591,  38.21792376,  64.23007243,\n",
       "        97.2366347 ,  72.63357442,  21.53191758,  99.70119781,\n",
       "        88.14069573,  18.22538566,  93.22407153,  87.01161766,\n",
       "         8.64877681,   3.94663998,  57.08464268,  61.27201444,\n",
       "        49.87765583,  97.94570378,   1.1527974 ,  71.6771098 ,\n",
       "        87.55797404,  23.65988637,  68.01839112,   9.1231243 ,\n",
       "        99.42825481,  85.76298664,  19.21345292,  71.4145654 ,\n",
       "        19.11108975,  58.51413166,  62.21035562,  75.47720248,\n",
       "        27.76369436,  99.06119632,  15.14762907,  53.26858578,\n",
       "        49.38532921,  33.18199261,  66.07078231,   0.13608714,\n",
       "        46.52436711,  73.53827671,  98.48123285,  91.20136902,\n",
       "        60.22887619,  81.4111031 ,  77.44442656,  35.93069447,\n",
       "        54.83458526,  55.75538602,  30.21375572,  91.31627664,\n",
       "        69.11729354,  90.93692474,  80.24534349,  20.71138586,\n",
       "        29.24938916,  32.97100559,  13.43240056,  53.46993457,\n",
       "        56.56326235,  52.94759432,  29.44736707,  83.12099806,\n",
       "        96.30862601,  43.97655349,  53.09776664,   2.3950056 ,\n",
       "        14.23185551,  63.32926481,  19.48441237,  73.50178532,\n",
       "        33.41254882,  17.20817013,  74.34490964,  66.97730402,\n",
       "        29.16293107,   9.06175179,  70.67517162,  75.72848497,\n",
       "         1.29409015,  31.15326599,  29.83605825,  24.7772568 ,\n",
       "        40.47490157,  24.06924551,  79.75207482,  75.64158381,\n",
       "        68.89754376,  43.38313298,  95.30811874,  20.05217226,\n",
       "        52.17399543,  10.36999891,  89.89699854,  87.26344132,\n",
       "        57.26224693,  33.38564595,  99.89212601,  49.01115048,\n",
       "        61.96250426,  96.71377583,  10.75546428,  12.16444585,\n",
       "        22.57220052,  84.73028914,  65.61698876,   7.71776673,\n",
       "         9.84751452,  23.98459805])"
      ]
     },
     "execution_count": 34,
     "metadata": {},
     "output_type": "execute_result"
    }
   ],
   "source": [
    "A = 100* np.random.rand(1000,130)\n",
    "A[1,:]"
   ]
  },
  {
   "cell_type": "code",
   "execution_count": 35,
   "metadata": {
    "collapsed": true
   },
   "outputs": [],
   "source": [
    "l = 20\n",
    "fd =  FrequentDirections(l,130)\n",
    "for i in range(1000):\n",
    "    row = A[i,:]\n",
    "    fd.add(row)"
   ]
  },
  {
   "cell_type": "code",
   "execution_count": 36,
   "metadata": {
    "scrolled": true
   },
   "outputs": [
    {
     "data": {
      "text/plain": [
       "array([[ 1516.68748937,  1548.07700261,  1626.63467775, ...,\n",
       "         1574.75742529,  1541.14731122,  1585.86405918],\n",
       "       [   31.99178541,    67.9049593 ,    52.34648705, ...,\n",
       "          -39.49884872,    93.99241999,   -84.61589223],\n",
       "       [  -58.3916565 ,    18.13940337,   116.69933877, ...,\n",
       "          -27.37058205,    50.79246863,   -88.13805801],\n",
       "       ..., \n",
       "       [   54.60216106,    50.4520626 ,    48.90329131, ...,\n",
       "           73.59230931,    35.26710127,    97.81285161],\n",
       "       [    5.61292279,    41.9684652 ,    13.92225184, ...,\n",
       "           44.71085409,    41.06047073,     8.48199409],\n",
       "       [   71.43891966,    69.98371163,    84.03183327, ...,\n",
       "           24.13194615,    74.81118523,    50.67994268]])"
      ]
     },
     "execution_count": 36,
     "metadata": {},
     "output_type": "execute_result"
    }
   ],
   "source": [
    "B = fd.get()\n",
    "B"
   ]
  },
  {
   "cell_type": "code",
   "execution_count": 37,
   "metadata": {
    "collapsed": true
   },
   "outputs": [],
   "source": [
    "approxCovarianceMatrixB = dot(B.transpose(),B)"
   ]
  },
  {
   "cell_type": "code",
   "execution_count": 38,
   "metadata": {
    "collapsed": true
   },
   "outputs": [],
   "source": [
    "approxCovarianceMatrixA = dot(A.transpose(),A)"
   ]
  },
  {
   "cell_type": "code",
   "execution_count": 39,
   "metadata": {
    "collapsed": true
   },
   "outputs": [],
   "source": [
    "testMatrix = approxCovarianceMatrixA - approxCovarianceMatrixB"
   ]
  },
  {
   "cell_type": "code",
   "execution_count": 40,
   "metadata": {},
   "outputs": [
    {
     "data": {
      "text/plain": [
       "1414477.9134544521"
      ]
     },
     "execution_count": 40,
     "metadata": {},
     "output_type": "execute_result"
    }
   ],
   "source": [
    "norm(testMatrix,ord=2)"
   ]
  },
  {
   "cell_type": "code",
   "execution_count": null,
   "metadata": {
    "scrolled": true
   },
   "outputs": [],
   "source": [
    "\n"
   ]
  },
  {
   "cell_type": "code",
   "execution_count": 45,
   "metadata": {
    "collapsed": true
   },
   "outputs": [],
   "source": [
    "[U,s,Vt] = svd(A , full_matrices=False)"
   ]
  },
  {
   "cell_type": "code",
   "execution_count": 46,
   "metadata": {},
   "outputs": [
    {
     "name": "stdout",
     "output_type": "stream",
     "text": [
      "83052513.4767\n",
      "42130662.6432\n",
      "28492444.9785\n",
      "21677241.0342\n",
      "17590623.5516\n",
      "14867702.3824\n",
      "12924442.4619\n",
      "11469460.7231\n",
      "10338650.3453\n",
      "9435968.05489\n",
      "8698474.21285\n",
      "8087630.03653\n",
      "7571046.32287\n",
      "7128656.07688\n",
      "6746239.18474\n",
      "6413312.17288\n",
      "6120241.31816\n",
      "5860073.80151\n"
     ]
    }
   ],
   "source": [
    "# Calculate Ak\n",
    "for k in range(l-1,1,-1):\n",
    "    #k = 1\n",
    "    s = s[:k]\n",
    "    U = U[:,:k]\n",
    "    Vt = Vt[:k,:]\n",
    "    Ak = dot(dot(U,diag(s)),Vt)\n",
    "    print((norm((A-Ak),ord='fro'))**2/(l-k))"
   ]
  },
  {
   "cell_type": "code",
   "execution_count": 20,
   "metadata": {},
   "outputs": [
    {
     "data": {
      "text/plain": [
       "1394019.9075011068"
      ]
     },
     "execution_count": 20,
     "metadata": {},
     "output_type": "execute_result"
    }
   ],
   "source": [
    "(norm((A-Ak),ord='fro'))**2/(l-k)"
   ]
  },
  {
   "cell_type": "code",
   "execution_count": 47,
   "metadata": {
    "collapsed": true
   },
   "outputs": [],
   "source": [
    "import urllib"
   ]
  },
  {
   "cell_type": "code",
   "execution_count": 50,
   "metadata": {
    "collapsed": true
   },
   "outputs": [],
   "source": [
    "base_url = \"http://ichart.finance.yahoo.com/table.csv?s=\"\n",
    "def make_url(ticker_symbol):\n",
    "    return base_url + ticker_symbol\n",
    "\n",
    "output_path = \"/home/duynguyen/data.csv\"\n",
    "def make_filename(ticker_symbol, directory=\"S&P\"):\n",
    "    return output_path + \"/\" + directory + \"/\" + ticker_symbol + \".csv\"\n",
    "\n",
    "def pull_historical_data(ticker_symbol, directory=\"S&P\"):\n",
    "    try:\n",
    "        urllib.urlretrieve(make_url(ticker_symbol), make_filename(ticker_symbol, directory))\n",
    "    except urllib.ContentTooShortError as e:\n",
    "        outfile = open(make_filename(ticker_symbol, directory), \"w\")\n",
    "        outfile.write(e.content)\n",
    "        outfile.close()"
   ]
  },
  {
   "cell_type": "code",
   "execution_count": null,
   "metadata": {
    "collapsed": true
   },
   "outputs": [],
   "source": [
    "make_url()"
   ]
  },
  {
   "cell_type": "code",
   "execution_count": null,
   "metadata": {
    "collapsed": true
   },
   "outputs": [],
   "source": []
  },
  {
   "cell_type": "code",
   "execution_count": null,
   "metadata": {
    "collapsed": true
   },
   "outputs": [],
   "source": []
  },
  {
   "cell_type": "code",
   "execution_count": null,
   "metadata": {
    "collapsed": true
   },
   "outputs": [],
   "source": []
  },
  {
   "cell_type": "code",
   "execution_count": null,
   "metadata": {
    "collapsed": true
   },
   "outputs": [],
   "source": []
  },
  {
   "cell_type": "code",
   "execution_count": null,
   "metadata": {
    "collapsed": true
   },
   "outputs": [],
   "source": []
  },
  {
   "cell_type": "code",
   "execution_count": null,
   "metadata": {
    "collapsed": true
   },
   "outputs": [],
   "source": []
  },
  {
   "cell_type": "code",
   "execution_count": null,
   "metadata": {
    "collapsed": true
   },
   "outputs": [],
   "source": []
  }
 ],
 "metadata": {
  "kernelspec": {
   "display_name": "Python 3",
   "language": "python",
   "name": "python3"
  },
  "language_info": {
   "codemirror_mode": {
    "name": "ipython",
    "version": 3
   },
   "file_extension": ".py",
   "mimetype": "text/x-python",
   "name": "python",
   "nbconvert_exporter": "python",
   "pygments_lexer": "ipython3",
   "version": "3.5.2"
  }
 },
 "nbformat": 4,
 "nbformat_minor": 2
}
