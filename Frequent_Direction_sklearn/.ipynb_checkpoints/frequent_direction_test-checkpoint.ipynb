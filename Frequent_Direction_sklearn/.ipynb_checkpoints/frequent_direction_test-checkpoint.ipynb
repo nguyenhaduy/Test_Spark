{
 "cells": [
  {
   "cell_type": "code",
   "execution_count": 1,
   "metadata": {
    "collapsed": true
   },
   "outputs": [],
   "source": [
    "from numpy import zeros, max, sqrt, isnan, isinf, dot, diag, count_nonzero\n",
    "from numpy.linalg import svd, linalg, LinAlgError, norm\n",
    "from scipy.linalg import svd as scipy_svd"
   ]
  },
  {
   "cell_type": "code",
   "execution_count": 2,
   "metadata": {
    "collapsed": true
   },
   "outputs": [],
   "source": [
    "from frequent_direction import FrequentDirections"
   ]
  },
  {
   "cell_type": "code",
   "execution_count": 3,
   "metadata": {
    "collapsed": true
   },
   "outputs": [],
   "source": [
    "# Testing\n",
    "import numpy as np"
   ]
  },
  {
   "cell_type": "code",
   "execution_count": 4,
   "metadata": {},
   "outputs": [
    {
     "data": {
      "text/plain": [
       "array([ 18.82250141,  32.0885816 ,  35.78289023,  66.78797605,\n",
       "        29.20037744,   5.0288347 ,   0.26934229,  27.10978398,\n",
       "        14.90590939,  17.94288926,  27.60281384,  61.64262709,\n",
       "        65.73635955,   8.99967606,  93.03116525,  27.59539994,\n",
       "        15.51996885,   1.29387865,  46.80743452,  71.94181962,\n",
       "        56.48877893,  41.18506039,  85.99686385,  75.65189213,\n",
       "        43.58118793,  71.77217373,  71.95448224,  61.36720018,\n",
       "        33.60505461,   8.44410026,  64.97208558,  81.23761916,\n",
       "        88.46638829,  96.45821599,  28.89643843,  28.61516119,\n",
       "        78.87281067,  79.19962806,   8.23160283,  85.24474074,\n",
       "        24.75491667,  70.08575587,  85.50703015,  29.98888397,\n",
       "        14.58050002,  71.36554096,  55.49973157,  25.2182372 ,\n",
       "        12.42484278,  10.52706634,  98.02864178,  89.54005485,\n",
       "        19.75257463,  61.14254511,   8.84489781,   3.67074766,\n",
       "        34.05196812,  19.7721012 ,  62.6330818 ,  34.79237516,\n",
       "        40.82022982,  79.68958975,  52.70869858,  50.64878458,\n",
       "        31.92157482,  60.02735099,  10.92525226,  59.80136301,\n",
       "        47.25799772,   9.89010337,  36.71307525,  13.07785854,\n",
       "        63.81374342,  48.66638394,  38.98869694,  21.70172478,\n",
       "        50.46033879,  24.55616143,   7.83327241,  73.64126847,\n",
       "        24.86039545,   3.98195478,  67.58001227,  99.633194  ,\n",
       "         7.35199875,  48.58233242,  68.56255401,  44.49375647,\n",
       "        31.88254639,  89.53462311,  91.90219462,  71.37697189,\n",
       "        33.05157933,  34.54510035,  45.52031002,  44.25993556,\n",
       "        54.76876366,  25.38445489,  27.48561931,  58.0712539 ,\n",
       "        16.054449  ,  95.58114467,  24.96833522,  19.69766685,\n",
       "        19.77357668,  44.66029245,  14.18847583,  66.38563441,\n",
       "        86.26075408,  82.37227832,  28.63585531,  94.30678661,\n",
       "        16.3580474 ,  51.36894112,  11.83368677,  23.21922005,\n",
       "        36.13674707,  23.71643656,  83.44247987,  80.18610787,\n",
       "        90.27811155,  70.07667787,  66.19897031,  77.29370026,\n",
       "        62.2044082 ,  17.10791717,  38.06198403,  58.36651839,\n",
       "         4.11425846,  40.94846845])"
      ]
     },
     "execution_count": 4,
     "metadata": {},
     "output_type": "execute_result"
    }
   ],
   "source": [
    "A = 100* np.random.rand(1000,130)\n",
    "A[1,:]"
   ]
  },
  {
   "cell_type": "code",
   "execution_count": 5,
   "metadata": {},
   "outputs": [
    {
     "name": "stdout",
     "output_type": "stream",
     "text": [
      "Matrix Sketching Using Frequent Direction\n"
     ]
    }
   ],
   "source": [
    "l = 20\n",
    "fd =  FrequentDirections(l,130)\n",
    "for i in range(1000):\n",
    "    row = A[i,:]\n",
    "    fd.add(row)"
   ]
  },
  {
   "cell_type": "code",
   "execution_count": 7,
   "metadata": {
    "scrolled": true
   },
   "outputs": [
    {
     "data": {
      "text/plain": [
       "array([[  1.56544629e+03,   1.55568237e+03,   1.55484886e+03, ...,\n",
       "          1.57869437e+03,   1.53672935e+03,   1.57456719e+03],\n",
       "       [ -1.65497715e+01,   3.31101000e+01,  -1.46968748e+01, ...,\n",
       "         -3.66437259e+01,  -3.90327554e+01,   1.53996805e+01],\n",
       "       [ -1.19711826e+00,  -4.68482897e+01,  -1.61181301e+01, ...,\n",
       "          1.09740596e+01,   1.57282363e+01,  -1.59573809e+01],\n",
       "       ..., \n",
       "       [ -4.11842231e+00,   1.30324086e+01,   7.06702527e+00, ...,\n",
       "          1.64888659e+01,   1.63261638e+00,   1.54712371e+00],\n",
       "       [  1.90546703e+00,  -6.12585365e+00,  -4.29816156e+00, ...,\n",
       "         -5.46784207e+00,  -6.82498759e+00,  -3.08668941e+00],\n",
       "       [  4.76183265e+01,   9.41897932e+01,   6.12482500e+01, ...,\n",
       "          3.93443249e+01,   5.05488290e+00,   1.96175414e+01]])"
      ]
     },
     "execution_count": 7,
     "metadata": {},
     "output_type": "execute_result"
    }
   ],
   "source": [
    "B = fd.getSketchMatrix()\n",
    "B"
   ]
  },
  {
   "cell_type": "code",
   "execution_count": 37,
   "metadata": {
    "collapsed": true
   },
   "outputs": [],
   "source": [
    "approxCovarianceMatrixB = dot(B.transpose(),B)"
   ]
  },
  {
   "cell_type": "code",
   "execution_count": 38,
   "metadata": {
    "collapsed": true
   },
   "outputs": [],
   "source": [
    "approxCovarianceMatrixA = dot(A.transpose(),A)"
   ]
  },
  {
   "cell_type": "code",
   "execution_count": 39,
   "metadata": {
    "collapsed": true
   },
   "outputs": [],
   "source": [
    "testMatrix = approxCovarianceMatrixA - approxCovarianceMatrixB"
   ]
  },
  {
   "cell_type": "code",
   "execution_count": 40,
   "metadata": {},
   "outputs": [
    {
     "data": {
      "text/plain": [
       "1414477.9134544521"
      ]
     },
     "execution_count": 40,
     "metadata": {},
     "output_type": "execute_result"
    }
   ],
   "source": [
    "norm(testMatrix,ord=2)"
   ]
  },
  {
   "cell_type": "code",
   "execution_count": null,
   "metadata": {
    "collapsed": true,
    "scrolled": true
   },
   "outputs": [],
   "source": [
    "\n"
   ]
  },
  {
   "cell_type": "code",
   "execution_count": 45,
   "metadata": {
    "collapsed": true
   },
   "outputs": [],
   "source": [
    "[U,s,Vt] = svd(A , full_matrices=False)"
   ]
  },
  {
   "cell_type": "code",
   "execution_count": 46,
   "metadata": {},
   "outputs": [
    {
     "name": "stdout",
     "output_type": "stream",
     "text": [
      "83052513.4767\n",
      "42130662.6432\n",
      "28492444.9785\n",
      "21677241.0342\n",
      "17590623.5516\n",
      "14867702.3824\n",
      "12924442.4619\n",
      "11469460.7231\n",
      "10338650.3453\n",
      "9435968.05489\n",
      "8698474.21285\n",
      "8087630.03653\n",
      "7571046.32287\n",
      "7128656.07688\n",
      "6746239.18474\n",
      "6413312.17288\n",
      "6120241.31816\n",
      "5860073.80151\n"
     ]
    }
   ],
   "source": [
    "# Calculate Ak\n",
    "for k in range(l-1,1,-1):\n",
    "    #k = 1\n",
    "    s = s[:k]\n",
    "    U = U[:,:k]\n",
    "    Vt = Vt[:k,:]\n",
    "    Ak = dot(dot(U,diag(s)),Vt)\n",
    "    print((norm((A-Ak),ord='fro'))**2/(l-k))"
   ]
  },
  {
   "cell_type": "code",
   "execution_count": 20,
   "metadata": {},
   "outputs": [
    {
     "data": {
      "text/plain": [
       "1394019.9075011068"
      ]
     },
     "execution_count": 20,
     "metadata": {},
     "output_type": "execute_result"
    }
   ],
   "source": [
    "(norm((A-Ak),ord='fro'))**2/(l-k)"
   ]
  },
  {
   "cell_type": "code",
   "execution_count": 47,
   "metadata": {
    "collapsed": true
   },
   "outputs": [],
   "source": [
    "import urllib"
   ]
  },
  {
   "cell_type": "code",
   "execution_count": 50,
   "metadata": {
    "collapsed": true
   },
   "outputs": [],
   "source": [
    "base_url = \"http://ichart.finance.yahoo.com/table.csv?s=\"\n",
    "def make_url(ticker_symbol):\n",
    "    return base_url + ticker_symbol\n",
    "\n",
    "output_path = \"/home/duynguyen/data.csv\"\n",
    "def make_filename(ticker_symbol, directory=\"S&P\"):\n",
    "    return output_path + \"/\" + directory + \"/\" + ticker_symbol + \".csv\"\n",
    "\n",
    "def pull_historical_data(ticker_symbol, directory=\"S&P\"):\n",
    "    try:\n",
    "        urllib.urlretrieve(make_url(ticker_symbol), make_filename(ticker_symbol, directory))\n",
    "    except urllib.ContentTooShortError as e:\n",
    "        outfile = open(make_filename(ticker_symbol, directory), \"w\")\n",
    "        outfile.write(e.content)\n",
    "        outfile.close()"
   ]
  },
  {
   "cell_type": "code",
   "execution_count": null,
   "metadata": {
    "collapsed": true
   },
   "outputs": [],
   "source": [
    "make_url()"
   ]
  },
  {
   "cell_type": "code",
   "execution_count": null,
   "metadata": {
    "collapsed": true
   },
   "outputs": [],
   "source": []
  },
  {
   "cell_type": "code",
   "execution_count": null,
   "metadata": {
    "collapsed": true
   },
   "outputs": [],
   "source": []
  },
  {
   "cell_type": "code",
   "execution_count": null,
   "metadata": {
    "collapsed": true
   },
   "outputs": [],
   "source": []
  },
  {
   "cell_type": "code",
   "execution_count": null,
   "metadata": {
    "collapsed": true
   },
   "outputs": [],
   "source": []
  },
  {
   "cell_type": "code",
   "execution_count": null,
   "metadata": {
    "collapsed": true
   },
   "outputs": [],
   "source": []
  },
  {
   "cell_type": "code",
   "execution_count": null,
   "metadata": {
    "collapsed": true
   },
   "outputs": [],
   "source": []
  },
  {
   "cell_type": "code",
   "execution_count": null,
   "metadata": {
    "collapsed": true
   },
   "outputs": [],
   "source": []
  }
 ],
 "metadata": {
  "kernelspec": {
   "display_name": "Python 3",
   "language": "python",
   "name": "python3"
  },
  "language_info": {
   "codemirror_mode": {
    "name": "ipython",
    "version": 3
   },
   "file_extension": ".py",
   "mimetype": "text/x-python",
   "name": "python",
   "nbconvert_exporter": "python",
   "pygments_lexer": "ipython3",
   "version": "3.5.2"
  }
 },
 "nbformat": 4,
 "nbformat_minor": 2
}
