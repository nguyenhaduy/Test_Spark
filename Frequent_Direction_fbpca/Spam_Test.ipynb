{
 "cells": [
  {
   "cell_type": "code",
   "execution_count": 1,
   "metadata": {
    "collapsed": true
   },
   "outputs": [],
   "source": [
    "import numpy as np\n",
    "from time import time\n",
    "from frequent_direction import FrequentDirections\n",
    "from scipy.io import arff"
   ]
  },
  {
   "cell_type": "code",
   "execution_count": 2,
   "metadata": {
    "collapsed": true
   },
   "outputs": [],
   "source": [
    "data, meta = arff.loadarff('spam_data.arff')"
   ]
  },
  {
   "cell_type": "code",
   "execution_count": 3,
   "metadata": {
    "collapsed": true
   },
   "outputs": [],
   "source": [
    "A = []\n",
    "for i in range(len(data)):\n",
    "    A.append(np.hstack(data[i]).astype(np.integer))"
   ]
  },
  {
   "cell_type": "code",
   "execution_count": 4,
   "metadata": {},
   "outputs": [],
   "source": [
    "B = np.zeros((9324,500))\n",
    "for i in range(len(A)):\n",
    "    B[i] = A[i]"
   ]
  },
  {
   "cell_type": "code",
   "execution_count": 5,
   "metadata": {
    "collapsed": true
   },
   "outputs": [],
   "source": [
    "A = np.array(B)\n",
    "del(B)"
   ]
  },
  {
   "cell_type": "code",
   "execution_count": 6,
   "metadata": {
    "collapsed": true
   },
   "outputs": [],
   "source": [
    "A.shape\n",
    "approxCovarianceMatrixA = np.dot(A.transpose(),A)"
   ]
  },
  {
   "cell_type": "code",
   "execution_count": 7,
   "metadata": {},
   "outputs": [
    {
     "data": {
      "text/plain": [
       "array([[ 1554.,  1010.,  1385., ...,   147.,   380.,  1186.],\n",
       "       [ 1010.,  2191.,   989., ...,   140.,   698.,  1411.],\n",
       "       [ 1385.,   989.,  1482., ...,   143.,   365.,  1111.],\n",
       "       ..., \n",
       "       [  147.,   140.,   143., ...,   183.,    64.,   105.],\n",
       "       [  380.,   698.,   365., ...,    64.,  2494.,   453.],\n",
       "       [ 1186.,  1411.,  1111., ...,   105.,   453.,  2387.]])"
      ]
     },
     "execution_count": 7,
     "metadata": {},
     "output_type": "execute_result"
    }
   ],
   "source": [
    "approxCovarianceMatrixA"
   ]
  },
  {
   "cell_type": "code",
   "execution_count": 8,
   "metadata": {},
   "outputs": [
    {
     "data": {
      "text/plain": [
       "580.2464993431671"
      ]
     },
     "execution_count": 8,
     "metadata": {},
     "output_type": "execute_result"
    }
   ],
   "source": [
    "Norm_A = np.linalg.norm(A,ord='fro')\n",
    "Norm_A"
   ]
  },
  {
   "cell_type": "code",
   "execution_count": 9,
   "metadata": {},
   "outputs": [
    {
     "name": "stdout",
     "output_type": "stream",
     "text": [
      "Matrix Sketching Using iSVD\n",
      "Matrix Sketching Using iSVD\n",
      "Matrix Sketching Using iSVD\n",
      "Matrix Sketching Using iSVD\n",
      "Matrix Sketching Using iSVD\n",
      "Matrix Sketching Using iSVD\n",
      "Matrix Sketching Using iSVD\n",
      "Matrix Sketching Using iSVD\n",
      "Matrix Sketching Using iSVD\n"
     ]
    }
   ],
   "source": [
    "# Iterative SVD\n",
    "Test1 = np.zeros(9)\n",
    "t1_1 = time()\n",
    "for j in range(9):    \n",
    "    l = 20 + 10*j\n",
    "    fd =  FrequentDirections(l,500,op='isvd')\n",
    "    for i in range(9324):\n",
    "        row = A[i,:]\n",
    "        fd.add(row)\n",
    "    B = fd.getSketchMatrix()\n",
    "    approxCovarianceMatrixB = np.dot(B.transpose(),B)\n",
    "    testMatrix = approxCovarianceMatrixA - approxCovarianceMatrixB\n",
    "    Test1[j] = np.linalg.norm(testMatrix,ord=2)/(Norm_A**2)\n",
    "    del(fd)\n",
    "t1_2 = time()\n",
    "t1 = t1_2 - t1_1"
   ]
  },
  {
   "cell_type": "code",
   "execution_count": 10,
   "metadata": {},
   "outputs": [
    {
     "data": {
      "text/plain": [
       "551.653945684433"
      ]
     },
     "execution_count": 10,
     "metadata": {},
     "output_type": "execute_result"
    }
   ],
   "source": [
    "t1"
   ]
  },
  {
   "cell_type": "code",
   "execution_count": 11,
   "metadata": {},
   "outputs": [
    {
     "data": {
      "text/plain": [
       "array([ 0.30720815,  0.30660108,  0.30673068,  0.30587972,  0.30549262,\n",
       "        0.30566697,  0.30540332,  0.3052862 ,  0.30529182])"
      ]
     },
     "execution_count": 11,
     "metadata": {},
     "output_type": "execute_result"
    }
   ],
   "source": [
    "Test1"
   ]
  },
  {
   "cell_type": "code",
   "execution_count": 12,
   "metadata": {},
   "outputs": [
    {
     "name": "stdout",
     "output_type": "stream",
     "text": [
      "Matrix Sketching Using Space Saving Direction\n",
      "Matrix Sketching Using Space Saving Direction\n",
      "Matrix Sketching Using Space Saving Direction\n",
      "Matrix Sketching Using Space Saving Direction\n",
      "Matrix Sketching Using Space Saving Direction\n",
      "Matrix Sketching Using Space Saving Direction\n",
      "Matrix Sketching Using Space Saving Direction\n",
      "Matrix Sketching Using Space Saving Direction\n",
      "Matrix Sketching Using Space Saving Direction\n"
     ]
    }
   ],
   "source": [
    "#Space Saving Direction\n",
    "Test2 = np.zeros(9)\n",
    "t2_1 = time()\n",
    "for j in range(9):    \n",
    "    l = 20 + 10*j\n",
    "    fd =  FrequentDirections(l,500,op='ssd')\n",
    "    for i in range(9324):\n",
    "        row = A[i,:]\n",
    "        fd.add(row)\n",
    "    B = fd.getSketchMatrix()\n",
    "    approxCovarianceMatrixB = np.dot(B.transpose(),B)\n",
    "    testMatrix = approxCovarianceMatrixA - approxCovarianceMatrixB\n",
    "    Test2[j] = np.linalg.norm(testMatrix,ord=2)/(Norm_A**2)\n",
    "    del(fd)\n",
    "t2_2 = time()\n",
    "t2 = t2_2 - t2_1"
   ]
  },
  {
   "cell_type": "code",
   "execution_count": 13,
   "metadata": {},
   "outputs": [
    {
     "data": {
      "text/plain": [
       "588.1074633598328"
      ]
     },
     "execution_count": 13,
     "metadata": {},
     "output_type": "execute_result"
    }
   ],
   "source": [
    "t2"
   ]
  },
  {
   "cell_type": "code",
   "execution_count": 14,
   "metadata": {},
   "outputs": [
    {
     "data": {
      "text/plain": [
       "array([ 0.30717622,  0.30660865,  0.30663952,  0.30626402,  0.30553952,\n",
       "        0.30553945,  0.30553845,  0.30497383,  0.30496154])"
      ]
     },
     "execution_count": 14,
     "metadata": {},
     "output_type": "execute_result"
    }
   ],
   "source": [
    "Test2"
   ]
  },
  {
   "cell_type": "code",
   "execution_count": 15,
   "metadata": {
    "scrolled": true
   },
   "outputs": [
    {
     "name": "stdout",
     "output_type": "stream",
     "text": [
      "Matrix Sketching Using Frequent Direction\n",
      "Matrix Sketching Using Frequent Direction\n",
      "Matrix Sketching Using Frequent Direction\n",
      "Matrix Sketching Using Frequent Direction\n",
      "Matrix Sketching Using Frequent Direction\n",
      "Matrix Sketching Using Frequent Direction\n",
      "Matrix Sketching Using Frequent Direction\n",
      "Matrix Sketching Using Frequent Direction\n",
      "Matrix Sketching Using Frequent Direction\n"
     ]
    }
   ],
   "source": [
    "# Frequent Direction\n",
    "Test3 = np.zeros(9)\n",
    "t3_1 = time()\n",
    "for j in range(9):    \n",
    "    l = 20 + 10*j\n",
    "    fd =  FrequentDirections(l,500,op='fd')\n",
    "    for i in range(9324):\n",
    "        row = A[i,:]\n",
    "        fd.add(row)\n",
    "    B = fd.getSketchMatrix()\n",
    "    approxCovarianceMatrixB = np.dot(B.transpose(),B)\n",
    "    testMatrix = approxCovarianceMatrixA - approxCovarianceMatrixB\n",
    "    Test3[j] = np.linalg.norm(testMatrix,ord=2)/(Norm_A**2)\n",
    "    del(fd)\n",
    "t3_2 = time()\n",
    "t3 = t3_2 - t3_1"
   ]
  },
  {
   "cell_type": "code",
   "execution_count": 16,
   "metadata": {},
   "outputs": [
    {
     "data": {
      "text/plain": [
       "585.6622579097748"
      ]
     },
     "execution_count": 16,
     "metadata": {},
     "output_type": "execute_result"
    }
   ],
   "source": [
    "t3"
   ]
  },
  {
   "cell_type": "code",
   "execution_count": 17,
   "metadata": {},
   "outputs": [
    {
     "data": {
      "text/plain": [
       "array([ 0.3070659 ,  0.30655192,  0.3067297 ,  0.30626164,  0.30558892,\n",
       "        0.30544188,  0.30542212,  0.30545297,  0.30496643])"
      ]
     },
     "execution_count": 17,
     "metadata": {},
     "output_type": "execute_result"
    }
   ],
   "source": [
    "Test3"
   ]
  },
  {
   "cell_type": "code",
   "execution_count": 18,
   "metadata": {},
   "outputs": [
    {
     "name": "stdout",
     "output_type": "stream",
     "text": [
      "Matrix Sketching Using Parameterized Frequent Direction\n",
      "Matrix Sketching Using Parameterized Frequent Direction\n",
      "Matrix Sketching Using Parameterized Frequent Direction\n",
      "Matrix Sketching Using Parameterized Frequent Direction\n",
      "Matrix Sketching Using Parameterized Frequent Direction\n",
      "Matrix Sketching Using Parameterized Frequent Direction\n",
      "Matrix Sketching Using Parameterized Frequent Direction\n",
      "Matrix Sketching Using Parameterized Frequent Direction\n",
      "Matrix Sketching Using Parameterized Frequent Direction\n"
     ]
    }
   ],
   "source": [
    "# 0.2 Parameterized Frequent Direction\n",
    "Test4 = np.zeros(9)\n",
    "t4_1 = time()\n",
    "for j in range(9):    \n",
    "    l = 20 + 10*j\n",
    "    fd =  FrequentDirections(l,500,op=0.2)\n",
    "    for i in range(9324):\n",
    "        row = A[i,:]\n",
    "        fd.add(row)\n",
    "    B = fd.getSketchMatrix()\n",
    "    approxCovarianceMatrixB = np.dot(B.transpose(),B)\n",
    "    testMatrix = approxCovarianceMatrixA - approxCovarianceMatrixB\n",
    "    Test4[j] = np.linalg.norm(testMatrix,ord=2)/(Norm_A**2)\n",
    "    del(fd)\n",
    "t4_2 = time()\n",
    "t4 = t4_2 - t4_1"
   ]
  },
  {
   "cell_type": "code",
   "execution_count": 19,
   "metadata": {},
   "outputs": [
    {
     "data": {
      "text/plain": [
       "583.1647574901581"
      ]
     },
     "execution_count": 19,
     "metadata": {},
     "output_type": "execute_result"
    }
   ],
   "source": [
    "t4"
   ]
  },
  {
   "cell_type": "code",
   "execution_count": 20,
   "metadata": {},
   "outputs": [
    {
     "data": {
      "text/plain": [
       "array([ 0.3070659 ,  0.30655192,  0.3067297 ,  0.30626164,  0.30558892,\n",
       "        0.30544188,  0.30542212,  0.30545297,  0.30496643])"
      ]
     },
     "execution_count": 20,
     "metadata": {},
     "output_type": "execute_result"
    }
   ],
   "source": [
    "Test4"
   ]
  },
  {
   "cell_type": "code",
   "execution_count": 21,
   "metadata": {},
   "outputs": [
    {
     "name": "stdout",
     "output_type": "stream",
     "text": [
      "Matrix Sketching Using Parameterized Frequent Direction\n",
      "Matrix Sketching Using Parameterized Frequent Direction\n",
      "Matrix Sketching Using Parameterized Frequent Direction\n",
      "Matrix Sketching Using Parameterized Frequent Direction\n",
      "Matrix Sketching Using Parameterized Frequent Direction\n",
      "Matrix Sketching Using Parameterized Frequent Direction\n",
      "Matrix Sketching Using Parameterized Frequent Direction\n",
      "Matrix Sketching Using Parameterized Frequent Direction\n",
      "Matrix Sketching Using Parameterized Frequent Direction\n"
     ]
    }
   ],
   "source": [
    "# 0.8 Parameterized Frequent Direction\n",
    "Test5 = np.zeros(9)\n",
    "t5_1 = time()\n",
    "for j in range(9):    \n",
    "    l = 20 + 10*j\n",
    "    fd =  FrequentDirections(l,500,op=0.8)\n",
    "    for i in range(9324):\n",
    "        row = A[i,:]\n",
    "        fd.add(row)\n",
    "    B = fd.getSketchMatrix()\n",
    "    approxCovarianceMatrixB = np.dot(B.transpose(),B)\n",
    "    testMatrix = approxCovarianceMatrixA - approxCovarianceMatrixB\n",
    "    Test5[j] = np.linalg.norm(testMatrix,ord=2)/(Norm_A**2)\n",
    "    del(fd)\n",
    "t5_2 = time()\n",
    "t5 = t5_2 - t5_1"
   ]
  },
  {
   "cell_type": "code",
   "execution_count": 22,
   "metadata": {},
   "outputs": [
    {
     "data": {
      "text/plain": [
       "585.7670254707336"
      ]
     },
     "execution_count": 22,
     "metadata": {},
     "output_type": "execute_result"
    }
   ],
   "source": [
    "t5"
   ]
  },
  {
   "cell_type": "code",
   "execution_count": 23,
   "metadata": {},
   "outputs": [
    {
     "data": {
      "text/plain": [
       "array([ 0.3070659 ,  0.30655192,  0.3067297 ,  0.30626164,  0.30558892,\n",
       "        0.30544188,  0.30542212,  0.30545297,  0.30496643])"
      ]
     },
     "execution_count": 23,
     "metadata": {},
     "output_type": "execute_result"
    }
   ],
   "source": [
    "Test5"
   ]
  },
  {
   "cell_type": "code",
   "execution_count": 24,
   "metadata": {
    "collapsed": true
   },
   "outputs": [],
   "source": [
    "import matplotlib.pyplot as plt\n",
    "%matplotlib inline"
   ]
  },
  {
   "cell_type": "code",
   "execution_count": 25,
   "metadata": {},
   "outputs": [
    {
     "data": {
      "text/plain": [
       "<matplotlib.legend.Legend at 0x7f7f06b9e4a8>"
      ]
     },
     "execution_count": 25,
     "metadata": {},
     "output_type": "execute_result"
    },
    {
     "data": {
      "image/png": "[encoded data removed]",
      "text/plain": [
       "<matplotlib.figure.Figure at 0x7f7f06c1ec88>"
      ]
     },
     "metadata": {},
     "output_type": "display_data"
    }
   ],
   "source": [
    "x = [20,30,40,50,60,70,80,90,100]\n",
    "plt.figure(figsize=(15,10))\n",
    "plt.title('Test Result for Spam Data', size='xx-large')\n",
    "plt.ylabel('Covariance Error', size='x-large')\n",
    "plt.xlabel('Sketch Size', size='x-large')\n",
    "plt.plot(x,Test1, 'r*-', markersize=10, linewidth=2, label='iSVD')\n",
    "plt.plot(x,Test2, 'bo-', markersize=10, linewidth=2, label='SSD')\n",
    "plt.plot(x,Test3, 'gv-', markersize=10, linewidth=2, label='FD')\n",
    "plt.plot(x,Test4, 'y^-', markersize=10, linewidth=2, label='0.2PFD')\n",
    "plt.plot(x,Test5, 'c.-', markersize=10, linewidth=2, label='0.8PFD')\n",
    "plt.tick_params(axis='both', which='major', labelsize=14)\n",
    "plt.legend(loc=(0.75,0.75), scatterpoints=1)"
   ]
  },
  {
   "cell_type": "code",
   "execution_count": null,
   "metadata": {
    "collapsed": true
   },
   "outputs": [],
   "source": []
  }
 ],
 "metadata": {
  "kernelspec": {
   "display_name": "Python 3",
   "language": "python",
   "name": "python3"
  },
  "language_info": {
   "codemirror_mode": {
    "name": "ipython",
    "version": 3
   },
   "file_extension": ".py",
   "mimetype": "text/x-python",
   "name": "python",
   "nbconvert_exporter": "python",
   "pygments_lexer": "ipython3",
   "version": "3.5.2"
  }
 },
 "nbformat": 4,
 "nbformat_minor": 2
}
